{
 "cells": [
  {
   "cell_type": "code",
   "execution_count": 1,
   "id": "e8a767a9-95dd-4c0d-8580-91320aad46b3",
   "metadata": {},
   "outputs": [],
   "source": [
    "from helper import getdata\n",
    "url = \"https://adventofcode.com/2020/day/5/input\"\n",
    "t = getdata(url)"
   ]
  },
  {
   "cell_type": "code",
   "execution_count": 3,
   "id": "e435d3cb-dd56-4e25-8cb6-f17aa7634e39",
   "metadata": {},
   "outputs": [
    {
     "data": {
      "text/plain": [
       "['FBBFBBBRLR', 'BFFBBFFLLL', 'BFFBBBBRRR', 'BBBFBBFRLL', 'FFBFFFFLRL']"
      ]
     },
     "execution_count": 3,
     "metadata": {},
     "output_type": "execute_result"
    }
   ],
   "source": [
    "t[:5]"
   ]
  },
  {
   "cell_type": "markdown",
   "id": "887f8112-3abb-4e73-b0c5-ba3b8a052432",
   "metadata": {},
   "source": [
    "## 1"
   ]
  },
  {
   "cell_type": "code",
   "execution_count": 41,
   "id": "3586dd60-f786-4c8a-87f5-cf90ae0fb459",
   "metadata": {},
   "outputs": [
    {
     "name": "stdout",
     "output_type": "stream",
     "text": [
      "959.0\n"
     ]
    }
   ],
   "source": [
    "seat_ids = []\n",
    "for seat in t:\n",
    "    x,y = 0, 127\n",
    "    for c in seat[:7]:\n",
    "        if c == 'F':\n",
    "            x,y = x, x+(y-x+1)/2-1\n",
    "        elif c == 'B':\n",
    "            x,y = x+((y-x+1)/2), y\n",
    "    assert x==y\n",
    "    row = x\n",
    "    \n",
    "    x,y = 0, 7\n",
    "    for c in seat[7:]:\n",
    "        if c == 'L':\n",
    "            x,y = x, x+(y-x+1)/2-1\n",
    "        elif c == 'R':\n",
    "            x,y = x+((y-x+1)/2), y\n",
    "    assert x==y\n",
    "    col = x\n",
    "    seat_ids.append(row*8 + col)\n",
    "print(max(seat_ids))"
   ]
  },
  {
   "cell_type": "markdown",
   "id": "712e0bae-4a90-49c1-8b62-437a9e76e526",
   "metadata": {},
   "source": [
    "## 2"
   ]
  },
  {
   "cell_type": "code",
   "execution_count": 46,
   "id": "a98d9c12-48e0-4ebc-a4b5-fa904cfd0173",
   "metadata": {},
   "outputs": [],
   "source": [
    "seat_ids = sorted(seat_ids)"
   ]
  },
  {
   "cell_type": "code",
   "execution_count": 48,
   "id": "b35a4355-5de3-4dce-ace2-c80359854b01",
   "metadata": {},
   "outputs": [
    {
     "name": "stdout",
     "output_type": "stream",
     "text": [
      "526.0 528.0\n"
     ]
    }
   ],
   "source": [
    "for i in range(len(seat_ids)-1):\n",
    "    if seat_ids[i] != (seat_ids[i+1] -1):\n",
    "        print(seat_ids[i], seat_ids[i+1])"
   ]
  }
 ],
 "metadata": {
  "kernelspec": {
   "display_name": "Python 3",
   "language": "python",
   "name": "python3"
  },
  "language_info": {
   "codemirror_mode": {
    "name": "ipython",
    "version": 3
   },
   "file_extension": ".py",
   "mimetype": "text/x-python",
   "name": "python",
   "nbconvert_exporter": "python",
   "pygments_lexer": "ipython3",
   "version": "3.8.8"
  }
 },
 "nbformat": 4,
 "nbformat_minor": 5
}
