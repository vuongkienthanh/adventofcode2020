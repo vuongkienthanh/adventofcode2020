{
 "cells": [
  {
   "cell_type": "code",
   "execution_count": 1,
   "id": "8a1a5797-bc3e-4543-8249-d9f53eefb304",
   "metadata": {},
   "outputs": [],
   "source": [
    "from helper import getdata\n",
    "url = \"https://adventofcode.com/2020/day/3/input\"\n",
    "t = getdata(url)"
   ]
  },
  {
   "cell_type": "code",
   "execution_count": 2,
   "id": "ec3141fa-d9ff-4ed9-8f05-e87c73aba447",
   "metadata": {},
   "outputs": [
    {
     "data": {
      "text/plain": [
       "['.....##.#.....#........#....##.',\n",
       " '....#...#...#.#.......#........',\n",
       " '.....##.#......#.......#.......',\n",
       " '...##.........#...#............',\n",
       " '........#...#.......#.........#']"
      ]
     },
     "execution_count": 2,
     "metadata": {},
     "output_type": "execute_result"
    }
   ],
   "source": [
    "t[:5]"
   ]
  },
  {
   "cell_type": "markdown",
   "id": "e2598a55-108e-4b2b-83f3-90c32bb1ddbd",
   "metadata": {},
   "source": [
    "## 1"
   ]
  },
  {
   "cell_type": "code",
   "execution_count": 5,
   "id": "1f33355e-9fdc-4159-afde-654bbab7d6a0",
   "metadata": {},
   "outputs": [
    {
     "name": "stdout",
     "output_type": "stream",
     "text": [
      "203\n"
     ]
    }
   ],
   "source": [
    "x = 0\n",
    "trees =0\n",
    "length = len(t[0])\n",
    "for line in t[1:]:\n",
    "    x += 3\n",
    "    if x >= length:\n",
    "        x -= length\n",
    "    if line[x] == \"#\":\n",
    "        trees += 1\n",
    "print(trees)"
   ]
  },
  {
   "cell_type": "markdown",
   "id": "38750840-b79e-495e-925c-0b9cca8b3a07",
   "metadata": {},
   "source": [
    "## 2"
   ]
  },
  {
   "cell_type": "code",
   "execution_count": 14,
   "id": "a2912b01-cf40-469b-a2a9-e7321d07136d",
   "metadata": {},
   "outputs": [
    {
     "name": "stdout",
     "output_type": "stream",
     "text": [
      "{(1, 1): 68, (3, 1): 203, (5, 1): 78, (7, 1): 77, (1, 2): 40}\n",
      "3316272960\n"
     ]
    }
   ],
   "source": [
    "trees = {\n",
    "    (1,1): 0,\n",
    "    (3,1): 0,\n",
    "    (5,1): 0,\n",
    "    (7,1): 0,\n",
    "    (1,2): 0\n",
    "}\n",
    "length = len(t[0])\n",
    "\n",
    "for lx, ly in trees:\n",
    "    x = 0\n",
    "    for line in t[::ly][1:]:\n",
    "        x += lx\n",
    "        if x >= length:\n",
    "            x -= length\n",
    "        if line[x] == \"#\":\n",
    "            trees[(lx,ly)] += 1\n",
    "\n",
    "print(trees)\n",
    "from functools import reduce\n",
    "print(reduce(lambda x,y:x*y, trees.values()))  "
   ]
  }
 ],
 "metadata": {
  "kernelspec": {
   "display_name": "Python 3",
   "language": "python",
   "name": "python3"
  },
  "language_info": {
   "codemirror_mode": {
    "name": "ipython",
    "version": 3
   },
   "file_extension": ".py",
   "mimetype": "text/x-python",
   "name": "python",
   "nbconvert_exporter": "python",
   "pygments_lexer": "ipython3",
   "version": "3.8.8"
  }
 },
 "nbformat": 4,
 "nbformat_minor": 5
}
