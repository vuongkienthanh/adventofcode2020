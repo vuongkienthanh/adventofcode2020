{
 "cells": [
  {
   "cell_type": "code",
   "execution_count": 7,
   "id": "rubber-toddler",
   "metadata": {},
   "outputs": [],
   "source": [
    "url = 'https://adventofcode.com/2020/day/22/input'\n",
    "from helper import getdata\n",
    "t =getdata(url, False)\n",
    "from collections import deque"
   ]
  },
  {
   "cell_type": "markdown",
   "id": "delayed-ethnic",
   "metadata": {},
   "source": [
    "## 1"
   ]
  },
  {
   "cell_type": "code",
   "execution_count": 30,
   "id": "impaired-trance",
   "metadata": {},
   "outputs": [
    {
     "data": {
      "text/plain": [
       "35562"
      ]
     },
     "execution_count": 30,
     "metadata": {},
     "output_type": "execute_result"
    }
   ],
   "source": [
    "def transform(t):\n",
    "    p1, p2 = t.split('\\n\\n')\n",
    "    p1 = deque([int(x) for x in p1.strip().split('\\n')[1:]])\n",
    "    p2 = deque([int(x) for x in p2.strip().split('\\n')[1:]])\n",
    "    return p1, p2\n",
    "\n",
    "def run(t):\n",
    "    p1, p2 = transform(t)\n",
    "    while True:\n",
    "        n1, n2 = p1.popleft(), p2.popleft()\n",
    "        if n1 > n2:\n",
    "            p1.extend([n1, n2])\n",
    "        else:\n",
    "            p2.extend([n2, n1])\n",
    "        if (len(p1)==0) or (len(p2)==0):\n",
    "            w = p1\n",
    "            w.extend(p2)\n",
    "            break\n",
    "    res = 0\n",
    "    for i, c in enumerate(list(w)[::-1]):\n",
    "        res += int(c)*(i+1)\n",
    "    return res\n",
    "            \n",
    "run(t)"
   ]
  },
  {
   "cell_type": "markdown",
   "id": "dependent-burke",
   "metadata": {},
   "source": [
    "## 2"
   ]
  },
  {
   "cell_type": "code",
   "execution_count": 81,
   "id": "cathedral-impossible",
   "metadata": {},
   "outputs": [],
   "source": [
    "class Game():\n",
    "    def __init__(self, p1, p2):\n",
    "        self.p1 = p1\n",
    "        self.p2 = p2\n",
    "        self.history = []\n",
    "        self.winner = None # 0 or 1\n",
    "        \n",
    "    def run(self):\n",
    "        while self.winner is None:\n",
    "            if [self.p1, self.p2] in self.history:\n",
    "                self.winner = 0\n",
    "            else:\n",
    "                self.history.append([self.p1.copy(), self.p2.copy()])\n",
    "                n1, n2 = self.p1.popleft(), self.p2.popleft()\n",
    "                if (len(self.p1)>=n1) & (len(self.p2)>=n2):\n",
    "                    sub_game_winner = Game(\n",
    "                        p1=deque(list(self.p1.copy())[:n1]),\n",
    "                        p2=deque(list(self.p2.copy())[:n2])\n",
    "                    ).run() #\n",
    "                    if sub_game_winner == 0:\n",
    "                        self.p1.extend([n1,n2])\n",
    "                    else:\n",
    "                        self.p2.extend([n2,n1])\n",
    "                else:\n",
    "                    if n1 > n2:\n",
    "                        self.p1.extend([n1, n2])\n",
    "                    else:\n",
    "                        self.p2.extend([n2, n1])\n",
    "                if (len(self.p1)==0):\n",
    "                    self.winner = 1\n",
    "                elif (len(self.p2)==0):\n",
    "                    self.winner = 0\n",
    "        return self.winner\n",
    "    \n",
    "    def cal(self):\n",
    "        w = [self.p1, self.p2][self.winner]\n",
    "        res = 0\n",
    "        for i, c in enumerate(list(w)[::-1]):\n",
    "            res += int(c)*(i+1)\n",
    "        return res"
   ]
  },
  {
   "cell_type": "code",
   "execution_count": 83,
   "id": "verified-loading",
   "metadata": {},
   "outputs": [
    {
     "data": {
      "text/plain": [
       "(0, 34424)"
      ]
     },
     "execution_count": 83,
     "metadata": {},
     "output_type": "execute_result"
    }
   ],
   "source": [
    "p1, p2 = transform(t)\n",
    "a = Game(p1, p2)\n",
    "a.run(), a.cal()"
   ]
  }
 ],
 "metadata": {
  "kernelspec": {
   "display_name": "Python 3",
   "language": "python",
   "name": "python3"
  },
  "language_info": {
   "codemirror_mode": {
    "name": "ipython",
    "version": 3
   },
   "file_extension": ".py",
   "mimetype": "text/x-python",
   "name": "python",
   "nbconvert_exporter": "python",
   "pygments_lexer": "ipython3",
   "version": "3.8.8"
  }
 },
 "nbformat": 4,
 "nbformat_minor": 5
}
