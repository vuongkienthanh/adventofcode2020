{
 "cells": [
  {
   "cell_type": "code",
   "execution_count": 1,
   "id": "written-enzyme",
   "metadata": {},
   "outputs": [],
   "source": [
    "url = 'https://adventofcode.com/2020/day/20/input'\n",
    "from helper import getdata\n",
    "t = getdata(url,False)\n",
    "import numpy as np\n",
    "from itertools import product"
   ]
  },
  {
   "cell_type": "markdown",
   "id": "interstate-brunswick",
   "metadata": {},
   "source": [
    "## 1"
   ]
  },
  {
   "cell_type": "code",
   "execution_count": 162,
   "id": "smart-marble",
   "metadata": {},
   "outputs": [],
   "source": [
    "def transform(t):\n",
    "    tiles = {}\n",
    "    for tile in filter(lambda x : x != '', t.split('\\n\\n')):\n",
    "        title, square = tile.split('\\n', 1)\n",
    "        tiles[int(title[5:-1])] = (\n",
    "            np.array([list(line) for line in square.splitlines()])=='#'\n",
    "        ).astype(int)\n",
    "    return tiles\n",
    "\n",
    "\n",
    "def generator(tiles, next_rest):\n",
    "    for tk in next_rest:\n",
    "        for flud, rot in list(product([False, True],[0,1,2,3])):\n",
    "            tile = tiles[tk]\n",
    "            if flud:\n",
    "                tile = np.flipud(tile)\n",
    "            tile = np.rot90(tile, rot)\n",
    "            edges = {}\n",
    "            edges['n'] = tile[0]\n",
    "            edges['s'] = tile[-1]\n",
    "            edges['e'] = tile[:,-1]\n",
    "            edges['w'] = tile[:,0]\n",
    "            yield tk, edges, tile\n",
    "\n",
    "def run(data):\n",
    "    tiles = transform(data)\n",
    "    edge_size = int(np.sqrt(len(tiles)))\n",
    "    rest = list(tiles.keys())\n",
    "    square = []\n",
    "    square_generators = [generator(tiles, rest)]\n",
    "    post_tiles = []\n",
    "    def proc(pop_tk, edges):\n",
    "        # curr\n",
    "        square.append([pop_tk, edges['e'], edges['s']])\n",
    "        post_tiles.append(tile)\n",
    "        # next\n",
    "        next_rest = rest.copy()\n",
    "        [next_rest.remove(x[0]) for x in square]\n",
    "        square_generators.append(generator(tiles, next_rest))\n",
    "    def stopiter():\n",
    "        square.pop()\n",
    "        square_generators.pop()\n",
    "        post_tiles.pop()\n",
    "\n",
    "\n",
    "    while len(square)< len(tiles):\n",
    "        i = len(square)\n",
    "        if i == 0:\n",
    "            pop_tk, edges, tile = next(square_generators[i])\n",
    "            proc(pop_tk, edges)            \n",
    "        elif i < edge_size:\n",
    "            try:\n",
    "                pop_tk, edges, tile = next(square_generators[i])\n",
    "                if (edges['w'] == square[-1][1]).all():\n",
    "                    proc(pop_tk, edges)   \n",
    "            except StopIteration:\n",
    "                stopiter()\n",
    "        elif (i % edge_size)==0:\n",
    "            try:\n",
    "                pop_tk, edges, tile = next(square_generators[i])\n",
    "                if (edges['n'] == square[i-edge_size][2]).all():\n",
    "                    proc(pop_tk, edges)   \n",
    "            except StopIteration:\n",
    "                stopiter()\n",
    "        else:\n",
    "            try:\n",
    "                pop_tk, edges, tile = next(square_generators[i])\n",
    "                if (edges['w'] == square[-1][1]).all() & \\\n",
    "                        (edges['n'] == square[i-edge_size][2]).all():\n",
    "                    proc(pop_tk, edges)\n",
    "            except StopIteration:\n",
    "                stopiter()\n",
    "    a = np.array([x[0] for x in square]).reshape(edge_size,edge_size)\n",
    "    return np.product([a[0,0], a[0,-1], a[-1,0], a[-1,-1]]), post_tiles"
   ]
  },
  {
   "cell_type": "code",
   "execution_count": 163,
   "id": "seeing-kingdom",
   "metadata": {},
   "outputs": [
    {
     "data": {
      "text/plain": [
       "29125888761511"
      ]
     },
     "execution_count": 163,
     "metadata": {},
     "output_type": "execute_result"
    }
   ],
   "source": [
    "p1, post = run(t)\n",
    "p1"
   ]
  },
  {
   "cell_type": "markdown",
   "id": "integrated-synthetic",
   "metadata": {},
   "source": [
    "## 2"
   ]
  },
  {
   "cell_type": "code",
   "execution_count": 164,
   "id": "furnished-block",
   "metadata": {},
   "outputs": [],
   "source": [
    "def monster():\n",
    "    return (np.array([list(x) for x in list('''                  # \n",
    "#    ##    ##    ###\n",
    " #  #  #  #  #  #   '''.splitlines())])=='#').astype(int)\n",
    "\n",
    "def removeborder(post):\n",
    "    s=np.sqrt(len(post)).astype(int)\n",
    "    a=np.array([p[1:-1, 1:-1] for p in post])\n",
    "    return np.concatenate(\n",
    "        [np.concatenate(a[i:i+s], axis=1) for i in range(0,len(post),s)])\n",
    "\n",
    "def run2(post):\n",
    "    post = removeborder(post)\n",
    "    es = len(post)\n",
    "    for flud, rot in list(product([False, True],[0,1,2,3])):\n",
    "        m = monster()\n",
    "        if flud:\n",
    "            m = np.flipud(m)\n",
    "        m = np.rot90(m, rot)\n",
    "        x,y = m.shape\n",
    "        loc = []\n",
    "        for i in range(x):\n",
    "            for j in range(y):\n",
    "                if m[i,j]==1:\n",
    "                    loc.append((i,j))\n",
    "        loc = np.array(loc)\n",
    "        count = 0\n",
    "        for row in range(es-x):\n",
    "            for col in range(es-y):\n",
    "                p = post[row:row+x, col:col+y]\n",
    "                stt = True\n",
    "                for l in loc:\n",
    "                    if p[l[0], l[1]]!=1:\n",
    "                        stt=False\n",
    "                if stt:\n",
    "                    count += 1\n",
    "        if count>0:\n",
    "            print(flud, rot, count, np.sum(post)-count*np.sum(m))"
   ]
  },
  {
   "cell_type": "code",
   "execution_count": 165,
   "id": "biblical-badge",
   "metadata": {},
   "outputs": [
    {
     "name": "stdout",
     "output_type": "stream",
     "text": [
      "True 2 15 2219\n"
     ]
    }
   ],
   "source": [
    "run2(post)"
   ]
  }
 ],
 "metadata": {
  "kernelspec": {
   "display_name": "Python 3",
   "language": "python",
   "name": "python3"
  },
  "language_info": {
   "codemirror_mode": {
    "name": "ipython",
    "version": 3
   },
   "file_extension": ".py",
   "mimetype": "text/x-python",
   "name": "python",
   "nbconvert_exporter": "python",
   "pygments_lexer": "ipython3",
   "version": "3.8.8"
  }
 },
 "nbformat": 4,
 "nbformat_minor": 5
}
