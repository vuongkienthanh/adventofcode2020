{
 "cells": [
  {
   "cell_type": "code",
   "execution_count": 117,
   "id": "04f9ffed-1bcb-4ef8-8a41-04dc3798cad6",
   "metadata": {},
   "outputs": [],
   "source": [
    "url = \"https://adventofcode.com/2020/day/14/input\"\n",
    "from helper import getdata\n",
    "t = getdata(url)"
   ]
  },
  {
   "cell_type": "code",
   "execution_count": 59,
   "id": "c795f8c9-64ed-4aff-a938-bb6db21a1d04",
   "metadata": {},
   "outputs": [
    {
     "data": {
      "text/plain": [
       "['mask = X1011100000X111X01001000001110X00000',\n",
       " 'mem[4616] = 8311689',\n",
       " 'mem[8936] = 240',\n",
       " 'mem[58007] = 369724',\n",
       " 'mask = 10X0111X01X0XX110X10100X1001X000010X',\n",
       " 'mem[41137] = 232605',\n",
       " 'mem[33757] = 1437435',\n",
       " 'mask = X0011110100X011X01000X1000X1000X0100',\n",
       " 'mem[12518] = 27521105',\n",
       " 'mem[25203] = 3177']"
      ]
     },
     "execution_count": 59,
     "metadata": {},
     "output_type": "execute_result"
    }
   ],
   "source": [
    "t[:10]"
   ]
  },
  {
   "cell_type": "markdown",
   "id": "ef7df74c-a9e4-4f63-9d08-04758076f771",
   "metadata": {},
   "source": [
    "## 1"
   ]
  },
  {
   "cell_type": "code",
   "execution_count": 60,
   "id": "15d0c90b-a16a-4f42-9f9e-337fed25aacf",
   "metadata": {},
   "outputs": [
    {
     "data": {
      "text/plain": [
       "14722016054794"
      ]
     },
     "execution_count": 60,
     "metadata": {},
     "output_type": "execute_result"
    }
   ],
   "source": [
    "from collections import defaultdict\n",
    "mem = defaultdict(lambda :0)\n",
    "\n",
    "def combine(val, mask):\n",
    "    res = \"\"\n",
    "    l = len(mask)\n",
    "    val = val.rjust(l, \"0\")\n",
    "    for i,n in enumerate(mask):\n",
    "        if n == \"X\":\n",
    "            res += val[i]\n",
    "        else:\n",
    "            res += mask[i]\n",
    "    return int(res,2)\n",
    "\n",
    "for line in t:\n",
    "    if line.startswith('mask'):\n",
    "        mask = line.split(' = ', 1)[1]\n",
    "    elif line.startswith('mem'):\n",
    "        loc, val = line.split('] = ')\n",
    "        loc = loc[4:]\n",
    "        val = bin(int(val))[2:]\n",
    "        res = combine(val, mask)\n",
    "        mem[loc] = res\n",
    "        \n",
    "sum(mem.values())"
   ]
  },
  {
   "cell_type": "markdown",
   "id": "2a2c4363-f395-4ffa-a05a-58912fd6bd40",
   "metadata": {},
   "source": [
    "## 2"
   ]
  },
  {
   "cell_type": "code",
   "execution_count": 118,
   "id": "6b1ac5de-ddc3-44a4-9f06-55d37f922ff6",
   "metadata": {},
   "outputs": [
    {
     "data": {
      "text/plain": [
       "3618217244644"
      ]
     },
     "execution_count": 118,
     "metadata": {},
     "output_type": "execute_result"
    }
   ],
   "source": [
    "mem = defaultdict(lambda :0)\n",
    "\n",
    "def combine(loc, mask):\n",
    "    template = []\n",
    "    loc = loc.rjust(len(mask), \"0\")\n",
    "    x_loc = []\n",
    "    for i,n in enumerate(mask):\n",
    "        if n == \"0\":\n",
    "            template.append(loc[i])\n",
    "        elif n == \"1\":\n",
    "            template.append(\"1\")\n",
    "        else:\n",
    "            template.append('X')\n",
    "            x_loc.append(i)\n",
    "    results= []\n",
    "    for i in range(2**len(x_loc)):\n",
    "        res = template.copy()\n",
    "        for x_l, e in zip(x_loc, list(bin(i)[2:].rjust(len(x_loc),'0'))):            \n",
    "            res[x_l] = e\n",
    "        results.append(int(''.join(res), 2))\n",
    "    return results\n",
    "\n",
    "for line in t:\n",
    "    if line.startswith('mask'):\n",
    "        mask = line.split(' = ', 1)[1]\n",
    "    elif line.startswith('mem'):\n",
    "        loc, val = line.split('] = ')\n",
    "        loc = loc[4:]\n",
    "        loc = bin(int(loc))[2:]\n",
    "        results= combine(loc, mask)\n",
    "        for addr in results:\n",
    "            mem[addr] = int(val)\n",
    "        \n",
    "sum(mem.values())"
   ]
  }
 ],
 "metadata": {
  "kernelspec": {
   "display_name": "Python 3",
   "language": "python",
   "name": "python3"
  },
  "language_info": {
   "codemirror_mode": {
    "name": "ipython",
    "version": 3
   },
   "file_extension": ".py",
   "mimetype": "text/x-python",
   "name": "python",
   "nbconvert_exporter": "python",
   "pygments_lexer": "ipython3",
   "version": "3.8.8"
  }
 },
 "nbformat": 4,
 "nbformat_minor": 5
}
