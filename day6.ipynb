{
 "cells": [
  {
   "cell_type": "code",
   "execution_count": 1,
   "id": "22c54283-8c1a-4b33-8538-4a7aa20d752e",
   "metadata": {},
   "outputs": [],
   "source": [
    "from helper import getdata\n",
    "url ='https://adventofcode.com/2020/day/6/input'\n",
    "t = getdata(url, split=False)"
   ]
  },
  {
   "cell_type": "markdown",
   "id": "3d54a9d7-8249-4ef3-85d4-a73a1315c7a7",
   "metadata": {},
   "source": [
    "## 1"
   ]
  },
  {
   "cell_type": "code",
   "execution_count": 9,
   "id": "5dba7da6-1dc7-4040-bdee-5217deef013f",
   "metadata": {},
   "outputs": [
    {
     "name": "stdout",
     "output_type": "stream",
     "text": [
      "6947\n"
     ]
    }
   ],
   "source": [
    "data = [\"\".join(x.split()) for x in t.split('\\n\\n')]\n",
    "count = 0\n",
    "for g in data:\n",
    "    ans = \"\"\n",
    "    for letter in g:\n",
    "        if letter not in ans:\n",
    "            ans += letter\n",
    "    count += len(ans)\n",
    "print(count)"
   ]
  },
  {
   "cell_type": "markdown",
   "id": "a23b7502-9205-4a2e-bfdf-22c3de587625",
   "metadata": {},
   "source": [
    "## 2"
   ]
  },
  {
   "cell_type": "code",
   "execution_count": 21,
   "id": "54a756f7-c786-4264-a39e-b930f8cc542d",
   "metadata": {
    "tags": []
   },
   "outputs": [
    {
     "name": "stdout",
     "output_type": "stream",
     "text": [
      "3398\n"
     ]
    }
   ],
   "source": [
    "data = [(x.split()) for x in t.split('\\n\\n')]\n",
    "count = 0\n",
    "for g in data:\n",
    "    if len(g)==1:\n",
    "        count += len(g[0])\n",
    "    else:\n",
    "        ans = \"\"\n",
    "        for letter in g[0]:\n",
    "            all_ = []\n",
    "            for i in range(1, len(g)):\n",
    "                all_.append(letter in g[i])\n",
    "            if all(all_):\n",
    "                ans += letter\n",
    "        count += len(ans)\n",
    "print(count)"
   ]
  }
 ],
 "metadata": {
  "kernelspec": {
   "display_name": "Python 3",
   "language": "python",
   "name": "python3"
  },
  "language_info": {
   "codemirror_mode": {
    "name": "ipython",
    "version": 3
   },
   "file_extension": ".py",
   "mimetype": "text/x-python",
   "name": "python",
   "nbconvert_exporter": "python",
   "pygments_lexer": "ipython3",
   "version": "3.8.8"
  }
 },
 "nbformat": 4,
 "nbformat_minor": 5
}
