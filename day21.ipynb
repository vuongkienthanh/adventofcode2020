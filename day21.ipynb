{
 "cells": [
  {
   "cell_type": "code",
   "execution_count": 33,
   "id": "former-spine",
   "metadata": {},
   "outputs": [],
   "source": [
    "url = \"https://adventofcode.com/2020/day/21/input\"\n",
    "from helper import getdata\n",
    "t = getdata(url)\n",
    "from functools import reduce\n",
    "import numpy as np"
   ]
  },
  {
   "cell_type": "markdown",
   "id": "small-style",
   "metadata": {},
   "source": [
    "## 1"
   ]
  },
  {
   "cell_type": "code",
   "execution_count": 99,
   "id": "motivated-harvest",
   "metadata": {},
   "outputs": [
    {
     "data": {
      "text/plain": [
       "2627"
      ]
     },
     "execution_count": 99,
     "metadata": {},
     "output_type": "execute_result"
    }
   ],
   "source": [
    "def find_allergens(t):\n",
    "    data = dict()\n",
    "    stt = True\n",
    "    while stt:\n",
    "        for line in t:\n",
    "            ingre, aller = line.split(' (contains ')\n",
    "            aller = aller[:-1].split(', ')\n",
    "            for a in aller:\n",
    "                if a in data:\n",
    "                    data[a] = np.intersect1d(data[a], ingre.split(' '))\n",
    "                else:\n",
    "                    data[a] = ingre.split(' ')\n",
    "        else:\n",
    "            for k in data:\n",
    "                if len(data[k]) == 1:\n",
    "                    to_remove = data[k]\n",
    "                    for k2 in data:\n",
    "                        if (k!=k2) & (to_remove in data[k2]):\n",
    "                            new = list(data[k2])\n",
    "                            new.remove(to_remove)\n",
    "                            data[k2] = new\n",
    "            for k in data:\n",
    "                if len(data[k])>1:\n",
    "                    stt = True\n",
    "                    break\n",
    "            else:\n",
    "                stt = False\n",
    "\n",
    "    return {data[k][0]: k for k in data}\n",
    "\n",
    "def run(t):\n",
    "    count = 0\n",
    "    allergens = find_allergens(t)\n",
    "    for line in t:\n",
    "        ingre, _ = line.split(' (contains ')\n",
    "        ingre = ingre.split(' ')\n",
    "        for a in allergens:\n",
    "            if a in ingre:\n",
    "                ingre.remove(a)\n",
    "        count += len(ingre)\n",
    "    return count\n",
    "        \n",
    "run(t)"
   ]
  },
  {
   "cell_type": "markdown",
   "id": "israeli-screen",
   "metadata": {},
   "source": [
    "## 2"
   ]
  },
  {
   "cell_type": "code",
   "execution_count": 108,
   "id": "normal-calibration",
   "metadata": {},
   "outputs": [
    {
     "data": {
      "text/plain": [
       "'hn,dgsdtj,kpksf,sjcvsr,bstzgn,kmmqmv,vkdxfj,bsfqgb'"
      ]
     },
     "execution_count": 108,
     "metadata": {},
     "output_type": "execute_result"
    }
   ],
   "source": [
    "','.join([x[0] for x in sorted(find_allergens(t).items(),key=lambda x:x[1])])"
   ]
  },
  {
   "cell_type": "code",
   "execution_count": null,
   "id": "athletic-corner",
   "metadata": {},
   "outputs": [],
   "source": []
  }
 ],
 "metadata": {
  "kernelspec": {
   "display_name": "Python 3",
   "language": "python",
   "name": "python3"
  },
  "language_info": {
   "codemirror_mode": {
    "name": "ipython",
    "version": 3
   },
   "file_extension": ".py",
   "mimetype": "text/x-python",
   "name": "python",
   "nbconvert_exporter": "python",
   "pygments_lexer": "ipython3",
   "version": "3.8.8"
  }
 },
 "nbformat": 4,
 "nbformat_minor": 5
}
