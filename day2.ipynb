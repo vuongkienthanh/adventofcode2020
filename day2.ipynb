{
 "cells": [
  {
   "cell_type": "code",
   "execution_count": 1,
   "id": "4e2a3195-8ced-469e-801b-b6a2203eb5bb",
   "metadata": {},
   "outputs": [],
   "source": [
    "from helper import getdata\n",
    "url = \"https://adventofcode.com/2020/day/2/input\"\n",
    "t = getdata(url)"
   ]
  },
  {
   "cell_type": "code",
   "execution_count": 2,
   "id": "22320a2f-bfd9-4046-bd8b-c1892c543aa4",
   "metadata": {},
   "outputs": [
    {
     "data": {
      "text/plain": [
       "['4-8 n: dnjjrtclnzdnghnbnn',\n",
       " '5-6 r: rrrrcqr',\n",
       " '2-4 p: pqhpppwpfmr',\n",
       " '1-13 p: spppppppppppvp',\n",
       " '5-6 x: xfwxxxxx']"
      ]
     },
     "execution_count": 2,
     "metadata": {},
     "output_type": "execute_result"
    }
   ],
   "source": [
    "t[:5]"
   ]
  },
  {
   "cell_type": "markdown",
   "id": "8cadba1f-412f-4791-89e2-33979e2f05fa",
   "metadata": {},
   "source": [
    "## 1"
   ]
  },
  {
   "cell_type": "code",
   "execution_count": 4,
   "id": "059df6c9-6832-4086-9bab-ab3c5d04566e",
   "metadata": {},
   "outputs": [
    {
     "name": "stdout",
     "output_type": "stream",
     "text": [
      "622\n"
     ]
    }
   ],
   "source": [
    "valid = 0\n",
    "for line in t:\n",
    "    pol, _, pw = line.partition(\":\")\n",
    "    low, oth = pol.split('-')\n",
    "    high, letter = oth.split()\n",
    "    low, high = int(low), int(high)\n",
    "    \n",
    "    if (pw.count(letter) >= low) & (pw.count(letter) <=high):\n",
    "        valid +=1\n",
    "print(valid)"
   ]
  },
  {
   "cell_type": "markdown",
   "id": "b8551820-079a-4321-9373-c27ffea97783",
   "metadata": {},
   "source": [
    "## 2"
   ]
  },
  {
   "cell_type": "code",
   "execution_count": 5,
   "id": "b0887c82-3526-4b09-9080-df8efcb251aa",
   "metadata": {},
   "outputs": [
    {
     "name": "stdout",
     "output_type": "stream",
     "text": [
      "263\n"
     ]
    }
   ],
   "source": [
    "valid = 0\n",
    "for line in t:\n",
    "    pol, _, pw = line.partition(\":\")\n",
    "    low, oth = pol.split('-')\n",
    "    high, letter = oth.split()\n",
    "    low, high = int(low), int(high)\n",
    "    letter = letter.strip()\n",
    "    pw = pw.strip()\n",
    "\n",
    "    if ((pw[low-1] == letter ) + (pw[high-1] == letter))==1:\n",
    "        valid +=1\n",
    "print(valid)"
   ]
  },
  {
   "cell_type": "code",
   "execution_count": null,
   "id": "bfeb5639-6d15-4e73-b8dc-ee0fee1689cd",
   "metadata": {},
   "outputs": [],
   "source": []
  }
 ],
 "metadata": {
  "kernelspec": {
   "display_name": "Python 3",
   "language": "python",
   "name": "python3"
  },
  "language_info": {
   "codemirror_mode": {
    "name": "ipython",
    "version": 3
   },
   "file_extension": ".py",
   "mimetype": "text/x-python",
   "name": "python",
   "nbconvert_exporter": "python",
   "pygments_lexer": "ipython3",
   "version": "3.8.8"
  }
 },
 "nbformat": 4,
 "nbformat_minor": 5
}
