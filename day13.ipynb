{
 "cells": [
  {
   "cell_type": "code",
   "execution_count": 1,
   "id": "determined-magic",
   "metadata": {},
   "outputs": [],
   "source": [
    "url = \"https://adventofcode.com/2020/day/13/input\"\n",
    "from helper import getdata\n",
    "t = getdata(url)"
   ]
  },
  {
   "cell_type": "code",
   "execution_count": 2,
   "id": "obvious-elder",
   "metadata": {},
   "outputs": [
    {
     "data": {
      "text/plain": [
       "['1008832',\n",
       " '23,x,x,x,x,x,x,x,x,x,x,x,x,41,x,x,x,x,x,x,x,x,x,449,x,x,x,x,x,x,x,x,x,x,x,x,x,x,x,x,x,13,19,x,x,x,x,x,x,x,x,x,29,x,991,x,x,x,x,x,37,x,x,x,x,x,x,x,x,x,x,17']"
      ]
     },
     "execution_count": 2,
     "metadata": {},
     "output_type": "execute_result"
    }
   ],
   "source": [
    "t"
   ]
  },
  {
   "cell_type": "markdown",
   "id": "spoken-vertical",
   "metadata": {},
   "source": [
    "## 1"
   ]
  },
  {
   "cell_type": "code",
   "execution_count": 32,
   "id": "careful-centre",
   "metadata": {},
   "outputs": [
    {
     "name": "stdout",
     "output_type": "stream",
     "text": [
      "991 6\n",
      "5946\n"
     ]
    }
   ],
   "source": [
    "ts = int(t[0])\n",
    "buses = [int(x)for x in list(filter(lambda x: x!='x',  t[1].split(',')))]\n",
    "\n",
    "i = 0\n",
    "status = False\n",
    "target_bus = None\n",
    "while not status:\n",
    "    for b in buses:\n",
    "        if (ts + i)%b==0:\n",
    "            status=True\n",
    "            target_bus = b\n",
    "            break\n",
    "    else:\n",
    "        i += 1\n",
    "print(target_bus, i )\n",
    "print(i*target_bus)"
   ]
  },
  {
   "cell_type": "markdown",
   "id": "individual-fishing",
   "metadata": {},
   "source": [
    "## 2 "
   ]
  },
  {
   "cell_type": "code",
   "execution_count": 62,
   "id": "2e72a5ab-bf15-4a8d-bd6f-3518711a98e5",
   "metadata": {},
   "outputs": [
    {
     "name": "stdout",
     "output_type": "stream",
     "text": [
      "{23: 0, 41: 40, 449: 447, 13: 10, 19: 15, 29: 24, 991: 985, 37: 30, 17: 9}\n",
      "635640502998030\n"
     ]
    }
   ],
   "source": [
    "buses = [int(x) for x in t[1].split(',') if x !=\"x\"]\n",
    "mods = {bus: -i % bus for i, bus in enumerate(buses)}\n",
    "vals = list(reversed(sorted(mods)))\n",
    "val = mods[vals[0]]\n",
    "r = vals[0]\n",
    "for b in vals[1:]:\n",
    "    while val % b != mods[b]:\n",
    "        val += r\n",
    "    r *= b\n",
    "print(val)"
   ]
  }
 ],
 "metadata": {
  "kernelspec": {
   "display_name": "Python 3",
   "language": "python",
   "name": "python3"
  },
  "language_info": {
   "codemirror_mode": {
    "name": "ipython",
    "version": 3
   },
   "file_extension": ".py",
   "mimetype": "text/x-python",
   "name": "python",
   "nbconvert_exporter": "python",
   "pygments_lexer": "ipython3",
   "version": "3.8.8"
  }
 },
 "nbformat": 4,
 "nbformat_minor": 5
}
