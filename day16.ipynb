{
 "cells": [
  {
   "cell_type": "code",
   "execution_count": 86,
   "id": "26f95dd5-133c-4899-8592-6a635fd017a4",
   "metadata": {},
   "outputs": [],
   "source": [
    "url = \"https://adventofcode.com/2020/day/16/input\"\n",
    "from helper import getdata\n",
    "t = getdata(url, False)"
   ]
  },
  {
   "cell_type": "code",
   "execution_count": 87,
   "id": "e9bb3221-d898-4b37-957e-f2919fb711f0",
   "metadata": {},
   "outputs": [],
   "source": [
    "def transform(t):\n",
    "    rules, your, nearby = t.split('\\n\\n')\n",
    "    rules = rules.splitlines()\n",
    "    your = your.splitlines()[1].split(',')\n",
    "    nearby = nearby.splitlines()[1:]\n",
    "    rule = dict()\n",
    "    for line in rules:\n",
    "        name, r = line.split(': ', 1)\n",
    "        r1, r2 = r.split(' or ')\n",
    "        f = lambda r: range(int(r.split('-')[0]), int(r.split('-')[1])+1  )\n",
    "        r1, r2 = f(r1), f(r2)\n",
    "        rule[name] = (r1,r2)\n",
    "    return rule, your, nearby"
   ]
  },
  {
   "cell_type": "markdown",
   "id": "aa720124-5fff-489d-906b-0d98043e47d8",
   "metadata": {},
   "source": [
    "## 1"
   ]
  },
  {
   "cell_type": "code",
   "execution_count": 87,
   "id": "c8c3d322-daa5-47a2-a448-b946cfd6433b",
   "metadata": {},
   "outputs": [
    {
     "data": {
      "text/plain": [
       "25788"
      ]
     },
     "execution_count": 87,
     "metadata": {},
     "output_type": "execute_result"
    }
   ],
   "source": [
    "rule, your, nearby = transform(t)\n",
    "ticket_error_rate = 0\n",
    "\n",
    "for ticket in nearby:\n",
    "    for num in ticket.split(','):\n",
    "        stt = False\n",
    "        for name, r in rule.items():\n",
    "            if (int(num) in r[0]) or (int(num) in r[1]):\n",
    "                stt = True\n",
    "                break\n",
    "        else:\n",
    "            if stt is False:\n",
    "                ticket_error_rate += int(num)\n",
    "\n",
    "ticket_error_rate"
   ]
  },
  {
   "cell_type": "markdown",
   "id": "aa9910a0-2ff1-4e52-8fcf-aa66d5cba235",
   "metadata": {},
   "source": [
    "## 2"
   ]
  },
  {
   "cell_type": "code",
   "execution_count": 176,
   "id": "c267ea31-7ad9-4c34-8690-5f354e758540",
   "metadata": {},
   "outputs": [
    {
     "data": {
      "text/plain": [
       "{0: ['arrival track'],\n",
       " 1: ['arrival location'],\n",
       " 2: ['row'],\n",
       " 3: ['train'],\n",
       " 4: ['duration'],\n",
       " 5: ['arrival station'],\n",
       " 6: ['type'],\n",
       " 7: ['departure platform'],\n",
       " 8: ['arrival platform'],\n",
       " 9: ['seat'],\n",
       " 10: ['departure station'],\n",
       " 11: ['route'],\n",
       " 12: ['class'],\n",
       " 13: ['departure location'],\n",
       " 14: ['price'],\n",
       " 15: ['wagon'],\n",
       " 16: ['departure time'],\n",
       " 17: ['departure track'],\n",
       " 18: ['zone'],\n",
       " 19: ['departure date']}"
      ]
     },
     "execution_count": 176,
     "metadata": {},
     "output_type": "execute_result"
    }
   ],
   "source": [
    "rule, your, nearby = transform(t)\n",
    "\n",
    "def check_valid(ticket):\n",
    "    for num in ticket.split(','):\n",
    "        stt = False\n",
    "        for name, r in rule.items():\n",
    "            if (int(num) in r[0]) or (int(num) in r[1]):\n",
    "                stt = True\n",
    "                break\n",
    "        else:\n",
    "            if stt is False:\n",
    "                return stt\n",
    "    else:\n",
    "        return True\n",
    "\n",
    "filtered = filter(check_valid, nearby)\n",
    "mem = dict()\n",
    "for i in range(len(rule.keys())):\n",
    "    mem[i] = list(rule.keys())\n",
    "\n",
    "# filter field\n",
    "for ticket in filtered:\n",
    "    for index, num in enumerate(ticket.split(',')):\n",
    "        to_remove = []\n",
    "        for name in mem[index]:\n",
    "            r = rule[name]\n",
    "            if not((int(num) in r[0]) or (int(num) in r[1])):\n",
    "                to_remove.append(name)\n",
    "        for name in to_remove:\n",
    "            mem[index].remove(name)\n",
    "\n",
    "# reduce to 1 field\n",
    "def all_one(mem):\n",
    "    for _, v in mem.items():\n",
    "        if len(v) != 1:\n",
    "            return False\n",
    "    else:\n",
    "        return True\n",
    "\n",
    "already = []\n",
    "remove_next = None\n",
    "while not all_one(mem):\n",
    "    if remove_next is not None:\n",
    "        for k, v in mem.items():\n",
    "            if (remove_next in v) and (len(v) != 1):\n",
    "                v.remove(remove_next)\n",
    "    for k, v in mem.items():\n",
    "        if (len(v) == 1) & (v[0] not in already):\n",
    "            already.append(v[0])\n",
    "            remove_next = v[0]\n",
    "\n",
    "mem"
   ]
  },
  {
   "cell_type": "code",
   "execution_count": 186,
   "id": "97405649-7462-47c5-8ce7-8ae2d47ae3d6",
   "metadata": {},
   "outputs": [
    {
     "data": {
      "text/plain": [
       "3902565915559"
      ]
     },
     "execution_count": 186,
     "metadata": {},
     "output_type": "execute_result"
    }
   ],
   "source": [
    "res = 1\n",
    "for i, _ in filter(lambda x: x[1][0].startswith('depart'), mem.items()):\n",
    "    res *= int(your[int(i)])\n",
    "res"
   ]
  },
  {
   "cell_type": "code",
   "execution_count": 187,
   "id": "986778ec-f072-4459-8556-3dc1d05a4bba",
   "metadata": {},
   "outputs": [
    {
     "data": {
      "text/plain": [
       "dict_items([(0, ['arrival track']), (1, ['arrival location']), (2, ['row']), (3, ['train']), (4, ['duration']), (5, ['arrival station']), (6, ['type']), (7, ['departure platform']), (8, ['arrival platform']), (9, ['seat']), (10, ['departure station']), (11, ['route']), (12, ['class']), (13, ['departure location']), (14, ['price']), (15, ['wagon']), (16, ['departure time']), (17, ['departure track']), (18, ['zone']), (19, ['departure date'])])"
      ]
     },
     "execution_count": 187,
     "metadata": {},
     "output_type": "execute_result"
    }
   ],
   "source": [
    "mem.items()"
   ]
  },
  {
   "cell_type": "code",
   "execution_count": null,
   "id": "d7c510d7-4ba4-4a3d-b57d-14cc87caad93",
   "metadata": {},
   "outputs": [],
   "source": []
  }
 ],
 "metadata": {
  "kernelspec": {
   "display_name": "Python 3",
   "language": "python",
   "name": "python3"
  },
  "language_info": {
   "codemirror_mode": {
    "name": "ipython",
    "version": 3
   },
   "file_extension": ".py",
   "mimetype": "text/x-python",
   "name": "python",
   "nbconvert_exporter": "python",
   "pygments_lexer": "ipython3",
   "version": "3.8.8"
  }
 },
 "nbformat": 4,
 "nbformat_minor": 5
}
