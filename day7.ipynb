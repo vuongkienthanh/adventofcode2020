{
 "cells": [
  {
   "cell_type": "code",
   "execution_count": 3,
   "id": "52536ee9-5e99-4b20-b2a2-27d7112e2b12",
   "metadata": {},
   "outputs": [],
   "source": [
    "url = \"https://adventofcode.com/2020/day/7/input\"\n",
    "from helper import getdata\n",
    "t = getdata(url)"
   ]
  },
  {
   "cell_type": "code",
   "execution_count": 12,
   "id": "2008565d-d37e-4d7b-baf6-20d0bd91b407",
   "metadata": {},
   "outputs": [
    {
     "data": {
      "text/plain": [
       "['dark olive bags contain 2 muted brown bags, 1 mirrored tomato bag, 4 bright black bags.',\n",
       " 'faded coral bags contain 3 drab cyan bags, 1 light aqua bag.',\n",
       " 'plaid plum bags contain 2 mirrored cyan bags.',\n",
       " 'clear maroon bags contain 1 dotted turquoise bag, 3 dim lavender bags.',\n",
       " 'plaid coral bags contain 3 posh fuchsia bags, 3 dotted beige bags, 2 wavy turquoise bags.']"
      ]
     },
     "execution_count": 12,
     "metadata": {},
     "output_type": "execute_result"
    }
   ],
   "source": [
    "t[:5]"
   ]
  },
  {
   "cell_type": "markdown",
   "id": "e021a9f9-2835-495d-805e-1a07cabc9495",
   "metadata": {},
   "source": [
    "## 1"
   ]
  },
  {
   "cell_type": "code",
   "execution_count": 40,
   "id": "d988b3f8-b40d-4a4d-900e-a241ae33b6fb",
   "metadata": {},
   "outputs": [
    {
     "data": {
      "text/plain": [
       "246"
      ]
     },
     "execution_count": 40,
     "metadata": {},
     "output_type": "execute_result"
    }
   ],
   "source": [
    "global_count = []\n",
    "t2 = t.copy()\n",
    "def check(rl=['shiny gold']):\n",
    "    global global_count\n",
    "    count = []\n",
    "    # base\n",
    "    if len(rl)==0:\n",
    "        return\n",
    "    # recur\n",
    "    else:\n",
    "        # get index and subject\n",
    "        for req in rl:\n",
    "            index_list = []\n",
    "            for index, bag in enumerate(t2):\n",
    "                sub, obj = bag.split('contain')\n",
    "                if req in obj:\n",
    "                    global_count.append(bag)\n",
    "                    count.append(sub[:-6])\n",
    "                    index_list.append(index)\n",
    "            # remove checked item\n",
    "            for index in index_list[::-1]:\n",
    "                t2.pop(index)\n",
    "            # check rest\n",
    "            check(count)\n",
    "\n",
    "check()\n",
    "len(global_count)"
   ]
  },
  {
   "cell_type": "markdown",
   "id": "7bec4992-30b6-4c74-9e86-8056b681595b",
   "metadata": {},
   "source": [
    "## 2"
   ]
  },
  {
   "cell_type": "code",
   "execution_count": 41,
   "id": "03c2d324-c03d-45e3-a484-61d7570e3f20",
   "metadata": {},
   "outputs": [],
   "source": [
    "ex = '''shiny gold bags contain 2 dark red bags.\n",
    "dark red bags contain 2 dark orange bags.\n",
    "dark orange bags contain 2 dark yellow bags.\n",
    "dark yellow bags contain 2 dark green bags.\n",
    "dark green bags contain 2 dark blue bags.\n",
    "dark blue bags contain 2 dark violet bags.\n",
    "dark violet bags contain no other bags.'''.splitlines()"
   ]
  },
  {
   "cell_type": "code",
   "execution_count": 49,
   "id": "9ad7729c-8220-4caf-83d4-d54d139e7550",
   "metadata": {},
   "outputs": [
    {
     "data": {
      "text/plain": [
       "[['2', 'muted brown bags'],\n",
       " ['1', 'mirrored tomato bag'],\n",
       " ['4', 'bright black bags.']]"
      ]
     },
     "execution_count": 49,
     "metadata": {},
     "output_type": "execute_result"
    }
   ],
   "source": [
    "[x.strip().split(' ', 1) for x in t[0].split('contain')[1].split(',')]"
   ]
  },
  {
   "cell_type": "code",
   "execution_count": 54,
   "id": "f97f7618-7d7d-431f-b7b8-1f5bfcd86ec9",
   "metadata": {},
   "outputs": [
    {
     "name": "stdout",
     "output_type": "stream",
     "text": [
      "[['5', 'dark salmon bags'], ['2', 'wavy purple bags'], ['5', 'dark cyan bags'], ['5', 'dull chartreuse bags.']]\n"
     ]
    },
    {
     "data": {
      "text/plain": [
       "0"
      ]
     },
     "execution_count": 54,
     "metadata": {},
     "output_type": "execute_result"
    }
   ],
   "source": [
    "global_count = []\n",
    "t2 = t[:500].copy()\n",
    "def check(rl=['shiny gold']):\n",
    "    global global_count\n",
    "    count = []\n",
    "    # base\n",
    "    if len(rl)==0:\n",
    "        return\n",
    "    # recur\n",
    "    else:\n",
    "        for req in rl:\n",
    "            index_list = []\n",
    "            for index, bag in enumerate(t2):\n",
    "                sub, obj = bag.split('contain')\n",
    "                if req in sub:\n",
    "                    obj_list = [x.strip().split(' ', 1) for x in obj.split(',')]\n",
    "                    for obj_item in obj_list:\n",
    "                        \n",
    "            # remove checked item\n",
    "#             for index in index_list[::-1]:\n",
    "#                 t2.pop(index)\n",
    "#             # check rest\n",
    "#             check(count)\n",
    "\n",
    "check()\n",
    "len(global_count)"
   ]
  },
  {
   "cell_type": "code",
   "execution_count": null,
   "id": "ea08ba52-b3f2-4c6c-a838-33311a7586b5",
   "metadata": {},
   "outputs": [],
   "source": []
  }
 ],
 "metadata": {
  "kernelspec": {
   "display_name": "Python 3",
   "language": "python",
   "name": "python3"
  },
  "language_info": {
   "codemirror_mode": {
    "name": "ipython",
    "version": 3
   },
   "file_extension": ".py",
   "mimetype": "text/x-python",
   "name": "python",
   "nbconvert_exporter": "python",
   "pygments_lexer": "ipython3",
   "version": "3.8.8"
  }
 },
 "nbformat": 4,
 "nbformat_minor": 5
}
