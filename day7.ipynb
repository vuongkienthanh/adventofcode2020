{
 "cells": [
  {
   "cell_type": "code",
   "execution_count": 19,
   "id": "artificial-moore",
   "metadata": {},
   "outputs": [],
   "source": [
    "url = \"https://adventofcode.com/2020/day/7/input\"\n",
    "from helper import getdata\n",
    "t = getdata(url)"
   ]
  },
  {
   "cell_type": "code",
   "execution_count": 24,
   "id": "dedicated-humanitarian",
   "metadata": {},
   "outputs": [
    {
     "data": {
      "text/plain": [
       "[['dark olive', ['2 muted brown', '1 mirrored tomato', '4 bright black']],\n",
       " ['faded coral', ['3 drab cyan', '1 light aqu']],\n",
       " ['plaid plum', ['2 mirrored cyan']],\n",
       " ['clear maroon', ['1 dotted turquoise', '3 dim lavender']],\n",
       " ['plaid coral', ['3 posh fuchsi', '3 dotted beige', '2 wavy turquoise']]]"
      ]
     },
     "execution_count": 24,
     "metadata": {},
     "output_type": "execute_result"
    }
   ],
   "source": [
    "t2 = []\n",
    "for sub, obj in [x.split('contain') for x in t]:\n",
    "    sub = sub.rstrip('bags. ')\n",
    "    obj = [o.rstrip('bags. ').lstrip() for o in obj.split(',')]\n",
    "    t2.append([sub, obj])\n",
    "t2[:5]"
   ]
  },
  {
   "cell_type": "markdown",
   "id": "humanitarian-interim",
   "metadata": {},
   "source": [
    "## 1"
   ]
  },
  {
   "cell_type": "code",
   "execution_count": 35,
   "id": "stone-louisville",
   "metadata": {},
   "outputs": [
    {
     "data": {
      "text/plain": [
       "246"
      ]
     },
     "execution_count": 35,
     "metadata": {},
     "output_type": "execute_result"
    }
   ],
   "source": [
    "global_count = 0\n",
    "t3 = t2.copy()\n",
    "def check(rl=['shiny gold']):\n",
    "    global global_count\n",
    "    next_rl = []\n",
    "    if len(rl)==0:\n",
    "        return\n",
    "    else:\n",
    "        for req in rl:\n",
    "            index_list = []\n",
    "            for index, (sub, obj) in enumerate(t3):\n",
    "                obj = [x.split(' ',1)[1] for x in obj]\n",
    "                if req in obj:\n",
    "                    global_count +=1\n",
    "                    next_rl.append(sub)\n",
    "                    index_list.append(index)\n",
    "            # remove checked item\n",
    "            for index in index_list[::-1]:\n",
    "                t3.pop(index)\n",
    "            # check rest\n",
    "            check(next_rl)\n",
    "\n",
    "check()\n",
    "global_count"
   ]
  },
  {
   "cell_type": "markdown",
   "id": "architectural-infection",
   "metadata": {},
   "source": [
    "## 2"
   ]
  },
  {
   "cell_type": "code",
   "execution_count": 34,
   "id": "atomic-passport",
   "metadata": {},
   "outputs": [
    {
     "data": {
      "text/plain": [
       "2976"
      ]
     },
     "execution_count": 34,
     "metadata": {},
     "output_type": "execute_result"
    }
   ],
   "source": [
    "global_count = 0\n",
    "\n",
    "def check(req='shiny gold', num=1):\n",
    "    global global_count\n",
    "    sub, obj = list(filter(lambda x: x[0]==req, t2))[0]\n",
    "    if 'no other' == obj[0]:\n",
    "        return\n",
    "    else:\n",
    "        for i in obj:\n",
    "            c, n = i.split(\" \", 1)\n",
    "            next_num = num * int(c)\n",
    "            global_count += next_num\n",
    "            check(n, next_num)\n",
    "\n",
    "check()\n",
    "global_count"
   ]
  }
 ],
 "metadata": {
  "kernelspec": {
   "display_name": "Python 3",
   "language": "python",
   "name": "python3"
  },
  "language_info": {
   "codemirror_mode": {
    "name": "ipython",
    "version": 3
   },
   "file_extension": ".py",
   "mimetype": "text/x-python",
   "name": "python",
   "nbconvert_exporter": "python",
   "pygments_lexer": "ipython3",
   "version": "3.8.8"
  }
 },
 "nbformat": 4,
 "nbformat_minor": 5
}
