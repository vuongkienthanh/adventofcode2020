{
 "cells": [
  {
   "cell_type": "code",
   "execution_count": 1,
   "id": "frank-madagascar",
   "metadata": {},
   "outputs": [],
   "source": [
    "url = \"https://adventofcode.com/2020/day/19/input\"\n",
    "from helper import getdata\n",
    "t = getdata(url, False)\n",
    "import re"
   ]
  },
  {
   "cell_type": "code",
   "execution_count": 2,
   "id": "aggregate-experience",
   "metadata": {},
   "outputs": [],
   "source": [
    "def transform(t):\n",
    "    rule, msg = t.split('\\n\\n')\n",
    "    rule, msg = rule.splitlines(), msg.splitlines()\n",
    "    rules = {}\n",
    "    for line in rule:\n",
    "        k, v = line.split(': ')\n",
    "        if k == '0':\n",
    "            rules[k] = v.split(' ')\n",
    "        elif v in ['\"a\"', '\"b\"']:\n",
    "            rules[k] = eval(v)\n",
    "        else:\n",
    "            if '|' in v:\n",
    "                rules[k] = ['('] + v.split(' ') + [')']\n",
    "            else:\n",
    "                rules[k] = v.split(' ')\n",
    "    return rules, msg\n",
    "\n",
    "def part2(rules):\n",
    "    rules['8'] = ['42', '+']\n",
    "    rules['11'] = ['42','{s}', '31' , '{s}']\n",
    "    return rules\n",
    "\n",
    "def compile_pattern(rules, p2=False):\n",
    "    if p2:\n",
    "        rules = part2(rules)\n",
    "    p = rules['0']\n",
    "    while re.search('\\d', ''.join(p)):\n",
    "        new_p = []\n",
    "        for i in p:\n",
    "            try:\n",
    "                new_p.extend(rules[i])\n",
    "            except KeyError:\n",
    "                new_p.append(i)\n",
    "        p = new_p\n",
    "    else:\n",
    "        return ''.join(p)\n",
    "\n",
    "def run(data):\n",
    "    valid = 0\n",
    "    rules, msg = transform(data)\n",
    "    pattern = compile_pattern(rules)\n",
    "    for m in msg:\n",
    "        if re.fullmatch(pattern, m):\n",
    "            valid += 1\n",
    "    return valid\n",
    "\n",
    "def run2(data):\n",
    "    valid = 0\n",
    "    rules, msg = transform(data)\n",
    "    temp = compile_pattern(rules, p2=True)\n",
    "    for m in msg:\n",
    "        maxsize = int(len(m)/2)\n",
    "        for size in range(1, maxsize):\n",
    "            pattern = temp.replace('s', str(size))\n",
    "            if re.fullmatch(pattern, m):\n",
    "                valid += 1\n",
    "                break\n",
    "    return valid"
   ]
  },
  {
   "cell_type": "markdown",
   "id": "enabling-strap",
   "metadata": {},
   "source": [
    "## 1"
   ]
  },
  {
   "cell_type": "code",
   "execution_count": 3,
   "id": "convertible-microphone",
   "metadata": {},
   "outputs": [
    {
     "data": {
      "text/plain": [
       "180"
      ]
     },
     "execution_count": 3,
     "metadata": {},
     "output_type": "execute_result"
    }
   ],
   "source": [
    "run(t)"
   ]
  },
  {
   "cell_type": "markdown",
   "id": "alone-collaboration",
   "metadata": {},
   "source": [
    "## 2"
   ]
  },
  {
   "cell_type": "code",
   "execution_count": 4,
   "id": "still-tobacco",
   "metadata": {},
   "outputs": [
    {
     "data": {
      "text/plain": [
       "323"
      ]
     },
     "execution_count": 4,
     "metadata": {},
     "output_type": "execute_result"
    }
   ],
   "source": [
    "run2(t)"
   ]
  }
 ],
 "metadata": {
  "kernelspec": {
   "display_name": "Python 3",
   "language": "python",
   "name": "python3"
  },
  "language_info": {
   "codemirror_mode": {
    "name": "ipython",
    "version": 3
   },
   "file_extension": ".py",
   "mimetype": "text/x-python",
   "name": "python",
   "nbconvert_exporter": "python",
   "pygments_lexer": "ipython3",
   "version": "3.8.8"
  }
 },
 "nbformat": 4,
 "nbformat_minor": 5
}
