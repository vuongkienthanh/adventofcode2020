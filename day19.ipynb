{
 "cells": [
  {
   "cell_type": "code",
   "execution_count": 1,
   "id": "ba47455a-5315-492b-b09e-5ddad1d530c0",
   "metadata": {},
   "outputs": [],
   "source": [
    "url = \"https://adventofcode.com/2020/day/19/input\"\n",
    "from helper import getdata\n",
    "t = getdata(url, False)\n",
    "import re"
   ]
  },
  {
   "cell_type": "code",
   "execution_count": 7,
   "id": "8eb2bf0f-9103-4971-a0ac-3b51824d3ab1",
   "metadata": {},
   "outputs": [],
   "source": [
    "ex = '''0: 4 1 5\n",
    "1: 2 3 | 3 2\n",
    "2: 4 4 | 5 5\n",
    "3: 4 5 | 5 4\n",
    "4: \"a\"\n",
    "5: \"b\"\n",
    "\n",
    "ababbb\n",
    "bababa\n",
    "abbbab\n",
    "aaabbb\n",
    "aaaabbb'''"
   ]
  },
  {
   "cell_type": "code",
   "execution_count": null,
   "id": "ebb832a2-12b4-49a2-a798-fa9a73c294a2",
   "metadata": {},
   "outputs": [],
   "source": [
    "def transform(t):\n",
    "    rule, msg = t.split('\\n\\n')\n",
    "    rule, msg = rule.splitlines(), msg.splitlines()\n",
    "    rules = {}\n",
    "    for line in rule:\n",
    "        k, v = line.split(': ')\n",
    "        if v in ['\"a\"', '\"b\"']:\n",
    "            rules[k] = eval(v)\n",
    "        else:\n",
    "            rules[k] = v.split(' | ')\n",
    "    return rules, msg\n",
    "\n",
    "def num_in_r0(rule0):\n",
    "    for i in rule0:\n",
    "        if re.search('\\d', i):\n",
    "            return True\n",
    "    else:\n",
    "        return False\n",
    "\n",
    "def translate(rule0, rules):\n",
    "    while num_in_r0(rule0):\n",
    "        new_rule = []\n",
    "        for rule in rule0:\n",
    "            first = re.search('\\d+', rule)\n",
    "            if first:\n",
    "                src = first.group()\n",
    "                for pos in rules[src]:\n",
    "                    new_rule.append(rule.replace(src, pos))\n",
    "            else:\n",
    "                new_rule.append(rule)\n",
    "        rule0 = new_rule\n",
    "        print(rule0)\n",
    "    else:\n",
    "        return [''.join(r.split(' ')) for r in rule0]\n",
    "\n",
    "def run(_input):\n",
    "    rules, msg = transform(_input)\n",
    "    final_rules = translate(rules['0'], rules)\n",
    "    return final_rules\n",
    "#     valid = 0\n",
    "#     for m in msg:\n",
    "#         if m in final_rules:\n",
    "#             valid += 1\n",
    "#     return valid"
   ]
  },
  {
   "cell_type": "code",
   "execution_count": null,
   "id": "49921192-dfea-4bc0-99e8-9ca12cd12408",
   "metadata": {},
   "outputs": [],
   "source": [
    "run(ex)"
   ]
  },
  {
   "cell_type": "code",
   "execution_count": null,
   "id": "f8710e67-3021-4957-b72a-23a8792c742b",
   "metadata": {},
   "outputs": [],
   "source": []
  }
 ],
 "metadata": {
  "kernelspec": {
   "display_name": "Python 3",
   "language": "python",
   "name": "python3"
  },
  "language_info": {
   "codemirror_mode": {
    "name": "ipython",
    "version": 3
   },
   "file_extension": ".py",
   "mimetype": "text/x-python",
   "name": "python",
   "nbconvert_exporter": "python",
   "pygments_lexer": "ipython3",
   "version": "3.8.8"
  }
 },
 "nbformat": 4,
 "nbformat_minor": 5
}
