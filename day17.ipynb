{
 "cells": [
  {
   "cell_type": "code",
   "execution_count": 3,
   "id": "apparent-carnival",
   "metadata": {},
   "outputs": [],
   "source": [
    "url = \"https://adventofcode.com/2020/day/17/input\"\n",
    "from helper import getdata\n",
    "import numpy as np\n",
    "from itertools import product\n",
    "t = getdata(url)"
   ]
  },
  {
   "cell_type": "markdown",
   "id": "healthy-berry",
   "metadata": {},
   "source": [
    "## 1"
   ]
  },
  {
   "cell_type": "code",
   "execution_count": 62,
   "id": "decimal-sheet",
   "metadata": {},
   "outputs": [],
   "source": [
    "curr = (np.array([[list(x) for x in t]])=='#').astype(int)"
   ]
  },
  {
   "cell_type": "code",
   "execution_count": 63,
   "id": "southwest-rover",
   "metadata": {},
   "outputs": [],
   "source": [
    "def surround_active(padded, z,x,y):\n",
    "    res = 0\n",
    "    for zi,xi,yi in product(*[[i-1,i,i+1] for i in [z,x,y]]):\n",
    "#             [z-1, z, z+1],\n",
    "#             [x-1, x, x+1],\n",
    "#             [y-1, y, y+1]):\n",
    "        if ((z,x,y) != (zi,xi,yi)) & \\\n",
    "                (-1 not in (zi,xi,yi)) & \\\n",
    "                (zi != padded.shape[0]) & \\\n",
    "                (padded.shape[1] not in (yi, xi)):                    \n",
    "            try:\n",
    "                res += padded[zi, xi, yi]\n",
    "            except:\n",
    "                pass\n",
    "    return int(res)\n",
    "\n",
    "def cycle(curr):\n",
    "    next_nd = (lambda z,x,y: (z+2, x+2, y+2))(*curr.shape)\n",
    "    # padding\n",
    "    padded = np.zeros(next_nd, dtype=int)\n",
    "    for z in range(len(curr)):\n",
    "        padded[z+1] = np.pad(curr[z], 1)\n",
    "\n",
    "    # iter\n",
    "    next_iter = padded.copy()\n",
    "    \n",
    "    for z,x,y in product(*[range(padded.shape[i]) for i in range(3)]):\n",
    "        check = surround_active(padded, z,x,y)\n",
    "        if (padded[z,x,y] == 1) & (check in [2,3]):\n",
    "            next_iter[z,x,y]= 1                    \n",
    "        elif  (padded[z,x,y] == 0) & (check == 3):\n",
    "            next_iter[z,x,y]= 1  \n",
    "        else:\n",
    "            next_iter[z,x,y]= 0\n",
    "    return next_iter"
   ]
  },
  {
   "cell_type": "code",
   "execution_count": 64,
   "id": "textile-vatican",
   "metadata": {},
   "outputs": [
    {
     "data": {
      "text/plain": [
       "306"
      ]
     },
     "execution_count": 64,
     "metadata": {},
     "output_type": "execute_result"
    }
   ],
   "source": [
    "for i in range(6):\n",
    "    curr = cycle(curr)\n",
    "\n",
    "np.sum(curr)"
   ]
  },
  {
   "cell_type": "markdown",
   "id": "related-picking",
   "metadata": {},
   "source": [
    "## 2"
   ]
  },
  {
   "cell_type": "code",
   "execution_count": 68,
   "id": "pharmaceutical-painting",
   "metadata": {},
   "outputs": [],
   "source": [
    "curr = (np.array([ # z\n",
    "        [ # w\n",
    "            [list(x) for x in t] \n",
    "        ]\n",
    "    ])=='#').astype(int)"
   ]
  },
  {
   "cell_type": "code",
   "execution_count": 69,
   "id": "saved-bathroom",
   "metadata": {},
   "outputs": [],
   "source": [
    "def surround_active(padded, z,w,x,y):\n",
    "    res = 0\n",
    "    for zi,wi,xi,yi in product(*[[i-1,i,i+1] for i in [z,w,x,y]]):\n",
    "        if ((w,z,x,y) != (wi,zi,xi,yi)) & \\\n",
    "                (-1 not in (zi,wi,xi,yi)) & \\\n",
    "                (zi != padded.shape[0]) & \\\n",
    "                (wi != padded.shape[1]) & \\\n",
    "                (padded.shape[2] not in (yi, xi)):                    \n",
    "            try:\n",
    "                res += padded[zi,wi,xi, yi]\n",
    "            except:\n",
    "                pass\n",
    "    return int(res)\n",
    "\n",
    "def cycle(curr):\n",
    "    next_nd = (lambda z,w,x,y: (z+2,w+2,x+2,y+2))(*curr.shape)\n",
    "    # padding\n",
    "    padded = np.zeros(next_nd, dtype=int)\n",
    "    for z,w in product(*[range(curr.shape[i]) for i in range(2)]):\n",
    "        padded[z+1, w+1] = np.pad(curr[z,w], 1)\n",
    "\n",
    "    # iter\n",
    "    next_iter = padded.copy()\n",
    "    for z,w,x,y in product(*[range(padded.shape[i]) for i in range(4)]):\n",
    "        check = surround_active(padded, z,w,x,y)\n",
    "        if (padded[z,w,x,y] == 1) & (check in [2,3]):\n",
    "            next_iter[z,w,x,y]= 1                    \n",
    "        elif  (padded[z,w,x,y] == 0) & (check == 3):\n",
    "            next_iter[z,w,x,y]= 1  \n",
    "        else:\n",
    "            next_iter[z,w,x,y]= 0\n",
    "    return next_iter"
   ]
  },
  {
   "cell_type": "code",
   "execution_count": 70,
   "id": "informational-dayton",
   "metadata": {},
   "outputs": [
    {
     "data": {
      "text/plain": [
       "2572"
      ]
     },
     "execution_count": 70,
     "metadata": {},
     "output_type": "execute_result"
    }
   ],
   "source": [
    "for i in range(6):\n",
    "    curr = cycle(curr)\n",
    "\n",
    "np.sum(curr)"
   ]
  }
 ],
 "metadata": {
  "kernelspec": {
   "display_name": "Python 3",
   "language": "python",
   "name": "python3"
  },
  "language_info": {
   "codemirror_mode": {
    "name": "ipython",
    "version": 3
   },
   "file_extension": ".py",
   "mimetype": "text/x-python",
   "name": "python",
   "nbconvert_exporter": "python",
   "pygments_lexer": "ipython3",
   "version": "3.8.8"
  }
 },
 "nbformat": 4,
 "nbformat_minor": 5
}
