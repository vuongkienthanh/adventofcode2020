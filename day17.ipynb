{
 "cells": [
  {
   "cell_type": "code",
   "execution_count": 1,
   "id": "3960ca53-4ca3-4f8b-91c6-50ecf3c7eac5",
   "metadata": {},
   "outputs": [],
   "source": [
    "url = \"https://adventofcode.com/2020/day/17/input\"\n",
    "from helper import getdata\n",
    "import numpy as np\n",
    "t = getdata(url)"
   ]
  },
  {
   "cell_type": "code",
   "execution_count": 55,
   "id": "7907fe73-5efd-437e-bed5-cdc07143ca59",
   "metadata": {},
   "outputs": [],
   "source": [
    "ex = '''.#.\n",
    "..#\n",
    "###\n",
    "'''.splitlines()"
   ]
  },
  {
   "cell_type": "code",
   "execution_count": 231,
   "id": "80050762-abb1-485c-901c-9df265ea10c7",
   "metadata": {},
   "outputs": [
    {
     "data": {
      "text/plain": [
       "(array([[[1, 1, 0, 0, 0, 0, 0, 0],\n",
       "         [0, 1, 1, 0, 0, 0, 1, 0],\n",
       "         [0, 1, 1, 1, 1, 1, 1, 1],\n",
       "         [0, 0, 1, 1, 1, 0, 1, 1],\n",
       "         [0, 1, 0, 1, 1, 1, 0, 0],\n",
       "         [0, 0, 1, 0, 1, 1, 1, 1],\n",
       "         [1, 1, 0, 1, 1, 1, 1, 0],\n",
       "         [1, 1, 0, 0, 1, 0, 1, 1]]]),\n",
       " 3,\n",
       " (1, 8, 8))"
      ]
     },
     "execution_count": 231,
     "metadata": {},
     "output_type": "execute_result"
    }
   ],
   "source": [
    "curr = (np.array([[list(x) for x in t]])=='#').astype(int)\n",
    "curr, curr.ndim, curr.shape"
   ]
  },
  {
   "cell_type": "code",
   "execution_count": 226,
   "id": "4f6e51c5-6d08-428d-95ad-98804092f492",
   "metadata": {},
   "outputs": [],
   "source": [
    "def surround_active(padded, z,x,y):\n",
    "    res = 0\n",
    "    for zi in [z-1, z, z+1]:\n",
    "        for xi in [x-1, x, x+1]:\n",
    "            for yi in [y-1, y, y+1]:\n",
    "                if ((z,x,y) != (zi,xi,yi)) & (-1 not in (zi,xi,yi)) & (zi != padded.shape[0]) & (padded.shape[1] not in (yi, xi)):                    \n",
    "                    try:\n",
    "                        res += padded[zi, xi, yi]\n",
    "                    except:\n",
    "                        pass\n",
    "    return int(res)\n",
    "\n",
    "def cycle(curr):\n",
    "    next_nd = (lambda z,x,y: (z+2, x+2, y+2))(*curr.shape)\n",
    "    # padding\n",
    "    padded = np.zeros(next_nd)\n",
    "    for z in range(len(curr)):\n",
    "        padded[z+1] = np.pad(curr[z], 1)\n",
    "\n",
    "    # iter\n",
    "    padded = padded.astype(int)\n",
    "    next_iter = padded.copy()\n",
    "    \n",
    "    for z in range(padded.shape[0]):\n",
    "        for x in range(padded.shape[1]):\n",
    "            for y in range(padded.shape[2]):\n",
    "                check = surround_active(padded, z,x,y)\n",
    "                if (padded[z,x,y] == 1) & (check in [2,3]):\n",
    "                    next_iter[z,x,y]= 1                    \n",
    "                elif  (padded[z,x,y] == 0) & (check == 3):\n",
    "                    next_iter[z,x,y]= 1  \n",
    "                else:\n",
    "                    next_iter[z,x,y]= 0\n",
    "    return next_iter"
   ]
  },
  {
   "cell_type": "code",
   "execution_count": 232,
   "id": "fea04f8f-4fcb-466a-b664-26863040adac",
   "metadata": {},
   "outputs": [
    {
     "name": "stdout",
     "output_type": "stream",
     "text": [
      "0\n",
      "1\n",
      "2\n",
      "3\n",
      "4\n",
      "5\n"
     ]
    },
    {
     "data": {
      "text/plain": [
       "306"
      ]
     },
     "execution_count": 232,
     "metadata": {},
     "output_type": "execute_result"
    }
   ],
   "source": [
    "for i in range(6):\n",
    "    print(i)\n",
    "    curr = cycle(curr)\n",
    "\n",
    "np.sum(curr)"
   ]
  },
  {
   "cell_type": "code",
   "execution_count": null,
   "id": "9894dd89-1fa2-4636-ab73-8729b9685fc2",
   "metadata": {},
   "outputs": [],
   "source": []
  }
 ],
 "metadata": {
  "kernelspec": {
   "display_name": "Python 3",
   "language": "python",
   "name": "python3"
  },
  "language_info": {
   "codemirror_mode": {
    "name": "ipython",
    "version": 3
   },
   "file_extension": ".py",
   "mimetype": "text/x-python",
   "name": "python",
   "nbconvert_exporter": "python",
   "pygments_lexer": "ipython3",
   "version": "3.8.8"
  }
 },
 "nbformat": 4,
 "nbformat_minor": 5
}
