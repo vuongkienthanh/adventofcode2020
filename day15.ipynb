{
 "cells": [
  {
   "cell_type": "code",
   "execution_count": 77,
   "id": "9abfeded-3dbe-49f7-8e04-1e130811cd3a",
   "metadata": {},
   "outputs": [],
   "source": [
    "url = \"https://adventofcode.com/2020/day/15/input\"\n",
    "from helper import getdata\n",
    "t = getdata(url)[0].split(',')"
   ]
  },
  {
   "cell_type": "markdown",
   "id": "dfe1595b-99ea-48bb-ac80-30a64dd8ff89",
   "metadata": {},
   "source": [
    "## 1 & 2"
   ]
  },
  {
   "cell_type": "code",
   "execution_count": null,
   "id": "661090fc-745a-44f5-a6e2-2658e972d5ee",
   "metadata": {},
   "outputs": [],
   "source": [
    "prev_loc = dict()\n",
    "curr_loc = dict()\n",
    "\n",
    "for turn in range(1, 30000001):\n",
    "    if turn <= len(t):\n",
    "        prev_loc[t[turn-1]] = turn\n",
    "        curr_loc[t[turn-1]] = turn\n",
    "        last_firsttime = True\n",
    "        last = t[turn-1]\n",
    "    else:\n",
    "        if last_firsttime:\n",
    "            last = '0'\n",
    "            curr_loc[last] = turn\n",
    "            if last in prev_loc:\n",
    "                last_firsttime = False\n",
    "            else:\n",
    "                last_firsttime = True\n",
    "        else:\n",
    "            new = str(curr_loc[last] - prev_loc[last])\n",
    "            if new in curr_loc:\n",
    "                last_firsttime = False\n",
    "                prev_loc[last] = curr_loc[last]\n",
    "                curr_loc[new] = turn\n",
    "            else:\n",
    "                last_firsttime = True\n",
    "                prev_loc[last] = curr_loc[last]\n",
    "                prev_loc[new] = turn\n",
    "                curr_loc[new] = turn            \n",
    "            last = new\n",
    "    if turn%50000 == 0:\n",
    "        print(turn, end=',')\n",
    "\n",
    "last"
   ]
  }
 ],
 "metadata": {
  "kernelspec": {
   "display_name": "Python 3",
   "language": "python",
   "name": "python3"
  },
  "language_info": {
   "codemirror_mode": {
    "name": "ipython",
    "version": 3
   },
   "file_extension": ".py",
   "mimetype": "text/x-python",
   "name": "python",
   "nbconvert_exporter": "python",
   "pygments_lexer": "ipython3",
   "version": "3.8.8"
  }
 },
 "nbformat": 4,
 "nbformat_minor": 5
}
