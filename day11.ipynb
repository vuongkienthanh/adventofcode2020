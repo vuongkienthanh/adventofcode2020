{
 "cells": [
  {
   "cell_type": "code",
   "execution_count": 1,
   "id": "opposed-donna",
   "metadata": {},
   "outputs": [],
   "source": [
    "url = \"https://adventofcode.com/2020/day/11/input\"\n",
    "from helper import getdata\n",
    "t = getdata(url)"
   ]
  },
  {
   "cell_type": "code",
   "execution_count": 8,
   "id": "stone-wound",
   "metadata": {},
   "outputs": [
    {
     "data": {
      "text/plain": [
       "['LLLLLL.LLLLLLLLLL.LLLLLL.LLLLLLLLL.LLLL..LLLL.LLLLLL.LLLL.LLLLLLLLLLLLLLLLLLLLLLLLLLLLLLLLLLLLLL',\n",
       " 'LLLLLLLLLLL.LLLLL.LLLLLL.LLLLLLLLL.L.LLL.LLLL.LLLLLL.LLLL.LLLLLLLLL.LLLLLLLL.LLLLL.LLLLLLLLLLLLL',\n",
       " 'LLLLLL.LLLL.LLLLL.LLLLLL.LLLLLLLLL.LLLLL.LL.L.LLLLLL.LLLL.LLLLLLLLL.LLLLLL.LLLLLLLLLL.LLLLLLLLLL',\n",
       " 'LLLLLL.LLLL.LLLLL.LLLLLL.LLLLLLLLL.LLLLL.LLLL..LLLLLLLLLL.LLLLLLLLLLLLLLLL.LLLLLLLLLLLLLLL.LL.LL',\n",
       " 'LLLLLL.LLLL.LLLLL.LLLLLL.LLLLLLLLL.LLLLLLLLLLLLLLLLL.LLLL.LLLLLLLLLLLLLLLLLLLLLLLL.LLLLLLLLLLLLL']"
      ]
     },
     "execution_count": 8,
     "metadata": {},
     "output_type": "execute_result"
    }
   ],
   "source": [
    "t[:5]"
   ]
  },
  {
   "cell_type": "markdown",
   "id": "floral-behavior",
   "metadata": {},
   "source": [
    "## 1"
   ]
  },
  {
   "cell_type": "code",
   "execution_count": 63,
   "id": "fresh-agenda",
   "metadata": {},
   "outputs": [
    {
     "name": "stdout",
     "output_type": "stream",
     "text": [
      "zzzzzzzzzzzzzzzzzzzzzzzzzzzzzzzzzzzzzzzzzzzzzzzzzzzzzzzzzzzzzzzzzzzzzzzzzzzzzzzzzzzzzzzzzzzzzz"
     ]
    },
    {
     "data": {
      "text/plain": [
       "2424"
      ]
     },
     "execution_count": 63,
     "metadata": {},
     "output_type": "execute_result"
    }
   ],
   "source": [
    "def epoch(state):\n",
    "    new_state = []\n",
    "    for row in range(len(state)):\n",
    "        new_row = \"\"\n",
    "        for col in range(len(state[0])):\n",
    "            elem = state[row][col]\n",
    "            if (elem == \"L\") & (check_adj(state, row, col) == 0):\n",
    "                new_row += \"#\"\n",
    "            elif (elem == \"#\") & (check_adj(state, row, col) >= 4):\n",
    "                new_row += \"L\"\n",
    "            else:\n",
    "                new_row += elem\n",
    "        new_state.append(new_row)\n",
    "    return new_state\n",
    "\n",
    "def check_adj(state, row, col):\n",
    "    num_of_occupied = 0\n",
    "    \n",
    "    def check_occ(row, col):\n",
    "        nonlocal state\n",
    "        nonlocal num_of_occupied\n",
    "        try:\n",
    "            if state[row][col] == \"#\":\n",
    "                num_of_occupied += 1\n",
    "        except:\n",
    "            print(len(state), len(state[0]), row, col)\n",
    "            raise\n",
    "\n",
    "    # left\n",
    "    if col > 0: check_occ(row, col-1)\n",
    "    # right\n",
    "    if col < (len(state[0])-1): check_occ(row, col+1)\n",
    "    # up\n",
    "    if row > 0: check_occ(row-1, col)\n",
    "    # down\n",
    "    if row < (len(state)-1): check_occ(row+1, col)\n",
    "    # up left\n",
    "    if (col > 0) & (row > 0): check_occ(row-1, col-1)\n",
    "    # up right\n",
    "    if (col < (len(state[0])-1)) & (row > 0): check_occ(row-1, col+1)\n",
    "    # down left\n",
    "    if (col > 0) & (row < (len(state)-1)): check_occ(row+1, col-1)\n",
    "    # down right\n",
    "    if (col < (len(state[0])-1)) & (row < (len(state)-1)): check_occ(row+1, col+1)\n",
    "    return num_of_occupied\n",
    "\n",
    "prev_state = t.copy()\n",
    "new_state = epoch(t)\n",
    "\n",
    "while not (new_state == prev_state):\n",
    "    print('z', end=\"\")\n",
    "    prev_state = new_state\n",
    "    new_state = epoch(new_state)\n",
    "\n",
    "''.join(new_state).count('#')"
   ]
  },
  {
   "cell_type": "markdown",
   "id": "communist-burlington",
   "metadata": {},
   "source": [
    "## 2"
   ]
  },
  {
   "cell_type": "code",
   "execution_count": 100,
   "id": "exotic-silver",
   "metadata": {},
   "outputs": [
    {
     "name": "stdout",
     "output_type": "stream",
     "text": [
      "zzzzzzzzzzzzzzzzzzzzzzzzzzzzzzzzzzzzzzzzzzzzzzzzzzzzzzzzzzzzzzzzzzzzzzzzzzzzzzzzzzzzzzzz"
     ]
    },
    {
     "data": {
      "text/plain": [
       "2208"
      ]
     },
     "execution_count": 100,
     "metadata": {},
     "output_type": "execute_result"
    }
   ],
   "source": [
    "def epoch(state):\n",
    "    new_state = []\n",
    "    for row in range(len(state)):\n",
    "        new_row = \"\"\n",
    "        for col in range(len(state[0])):\n",
    "            elem = state[row][col]\n",
    "            if (elem == \"L\") & (check_dir(state, row, col) == 0):\n",
    "                new_row += \"#\"\n",
    "            elif (elem == \"#\") & (check_dir(state, row, col) >= 5):\n",
    "                new_row += \"L\"\n",
    "            else:\n",
    "                new_row += elem\n",
    "        new_state.append(new_row)\n",
    "    return new_state\n",
    "\n",
    "def check_dir(state, row, col):\n",
    "    num_of_occupied = 0\n",
    "\n",
    "    # left\n",
    "    i = 0\n",
    "    while (col-i) > 0:\n",
    "        i += 1\n",
    "        if state[row][col-i] == '#':\n",
    "            num_of_occupied += 1\n",
    "            break\n",
    "        elif state[row][col-i] == 'L':\n",
    "            break\n",
    "        \n",
    "    # right\n",
    "    i = 0\n",
    "    while (col+i) < (len(state[0])-1):\n",
    "        i += 1\n",
    "        if state[row][col+i] == '#':\n",
    "            num_of_occupied += 1\n",
    "            break\n",
    "        elif state[row][col+i] == 'L':\n",
    "            break\n",
    "    # up\n",
    "    i = 0\n",
    "    while (row-i) > 0:\n",
    "        i += 1\n",
    "        if state[row-i][col] == '#':\n",
    "            num_of_occupied += 1\n",
    "            break\n",
    "        elif state[row-i][col] == 'L':\n",
    "            break\n",
    "\n",
    "    # down\n",
    "    i = 0\n",
    "    while (row+i) < (len(state)-1):\n",
    "        i += 1\n",
    "        if state[row+i][col] == '#':\n",
    "            num_of_occupied += 1\n",
    "            break\n",
    "        elif state[row+i][col] == 'L':\n",
    "            break\n",
    "\n",
    "    # up left\n",
    "    i = 0\n",
    "    while ((col-i) > 0) & ((row-i) > 0):\n",
    "        i += 1\n",
    "        if state[row-i][col-i] == '#':\n",
    "            num_of_occupied += 1\n",
    "            break\n",
    "        elif state[row-i][col-i] == 'L':\n",
    "            break\n",
    "    \n",
    "    # up right\n",
    "    i = 0\n",
    "    while ((col+i) < (len(state[0])-1)) & ((row-i) > 0):\n",
    "        i += 1\n",
    "        if state[row-i][col+i] == '#':\n",
    "            num_of_occupied += 1\n",
    "            break\n",
    "        elif state[row-i][col+i] == 'L':\n",
    "            break\n",
    "    \n",
    "    # down left\n",
    "    i = 0\n",
    "    while ((row+i) < (len(state)-1)) & ((col-i) > 0):\n",
    "        i += 1\n",
    "        if state[row+i][col-i] == '#':\n",
    "            num_of_occupied += 1\n",
    "            break\n",
    "        elif state[row+i][col-i] == 'L':\n",
    "            break\n",
    "    \n",
    "    # down right\n",
    "    i = 0\n",
    "    while ((row+i) < (len(state)-1)) & ((col+i) < (len(state[0])-1)):\n",
    "        i += 1\n",
    "        if state[row+i][col+i] == '#':\n",
    "            num_of_occupied += 1\n",
    "            break\n",
    "        elif state[row+i][col+i] == 'L':\n",
    "            break\n",
    "    \n",
    "    return num_of_occupied\n",
    "\n",
    "prev_state = t.copy()\n",
    "new_state = epoch(prev_state)\n",
    "\n",
    "while not (new_state == prev_state):\n",
    "    print('z', end='')\n",
    "    prev_state = new_state\n",
    "    new_state = epoch(new_state)\n",
    "\n",
    "''.join(new_state).count('#')"
   ]
  }
 ],
 "metadata": {
  "kernelspec": {
   "display_name": "Python 3",
   "language": "python",
   "name": "python3"
  },
  "language_info": {
   "codemirror_mode": {
    "name": "ipython",
    "version": 3
   },
   "file_extension": ".py",
   "mimetype": "text/x-python",
   "name": "python",
   "nbconvert_exporter": "python",
   "pygments_lexer": "ipython3",
   "version": "3.8.8"
  }
 },
 "nbformat": 4,
 "nbformat_minor": 5
}
