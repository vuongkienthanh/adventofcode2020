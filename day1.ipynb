{
 "cells": [
  {
   "cell_type": "code",
   "execution_count": 2,
   "id": "d17080e3-121d-4608-91b2-75689cc2e4e9",
   "metadata": {},
   "outputs": [],
   "source": [
    "from helper import getdata"
   ]
  },
  {
   "cell_type": "code",
   "execution_count": 3,
   "id": "e8fa6a70-4183-4717-bebf-0208f88fd4eb",
   "metadata": {},
   "outputs": [],
   "source": [
    "url = \"https://adventofcode.com/2020/day/1/input\"  \n",
    "data = set(int(x) for x in getdata(url))"
   ]
  },
  {
   "cell_type": "markdown",
   "id": "c2d77426-2591-495a-a50f-0cb5b1ca7051",
   "metadata": {},
   "source": [
    "## 1"
   ]
  },
  {
   "cell_type": "code",
   "execution_count": 4,
   "id": "fd98d078-9a15-48f9-a987-d891a03dd48f",
   "metadata": {},
   "outputs": [
    {
     "name": "stdout",
     "output_type": "stream",
     "text": [
      "111 1909\n",
      "211899\n"
     ]
    }
   ],
   "source": [
    "for n in data:\n",
    "    op = 2020 - n\n",
    "    if op in data:\n",
    "        print(n, op)\n",
    "        print(n*op)\n",
    "        break"
   ]
  },
  {
   "cell_type": "markdown",
   "id": "4efb1285-3207-4cc7-949f-9f3283f5d06a",
   "metadata": {},
   "source": [
    "## 2"
   ]
  },
  {
   "cell_type": "code",
   "execution_count": 25,
   "id": "25c936a7-4050-4fb2-9b95-175bc74be160",
   "metadata": {},
   "outputs": [
    {
     "name": "stdout",
     "output_type": "stream",
     "text": [
      "617 914 489\n",
      "275765682\n"
     ]
    }
   ],
   "source": [
    "from itertools import combinations\n",
    "for a,b,c in combinations(data,3 ):\n",
    "    if a + b+ c == 2020:\n",
    "        print(a,b,c)\n",
    "        print(a*b*c)\n",
    "        break"
   ]
  }
 ],
 "metadata": {
  "kernelspec": {
   "display_name": "Python 3",
   "language": "python",
   "name": "python3"
  },
  "language_info": {
   "codemirror_mode": {
    "name": "ipython",
    "version": 3
   },
   "file_extension": ".py",
   "mimetype": "text/x-python",
   "name": "python",
   "nbconvert_exporter": "python",
   "pygments_lexer": "ipython3",
   "version": "3.8.8"
  }
 },
 "nbformat": 4,
 "nbformat_minor": 5
}
