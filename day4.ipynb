{
 "cells": [
  {
   "cell_type": "code",
   "execution_count": 3,
   "id": "6f440acb-4ca5-4540-afae-d327f27999de",
   "metadata": {},
   "outputs": [],
   "source": [
    "from helper import getdata\n",
    "url = \"https://adventofcode.com/2020/day/4/input\"\n",
    "t = getdata(url, split=False)"
   ]
  },
  {
   "cell_type": "code",
   "execution_count": 7,
   "id": "52f07a3d-db04-4563-94c8-a165f08c67fa",
   "metadata": {},
   "outputs": [],
   "source": [
    "t = t.split('\\n\\n')"
   ]
  },
  {
   "cell_type": "markdown",
   "id": "6150014b-7c09-49b2-8c03-fce514217861",
   "metadata": {},
   "source": [
    "## 1"
   ]
  },
  {
   "cell_type": "code",
   "execution_count": 19,
   "id": "c9e40667-f6ad-4fe9-a080-878cf6a1d6c0",
   "metadata": {},
   "outputs": [
    {
     "name": "stdout",
     "output_type": "stream",
     "text": [
      "222\n"
     ]
    }
   ],
   "source": [
    "valid = 0\n",
    "for pp in t:\n",
    "    pp = (' '.join(pp.splitlines())).split()\n",
    "    keys = [x[:3] for x in pp]\n",
    "    if (len(keys) == 8) or ( (len(keys)==7) & ('cid' not in keys)):\n",
    "        valid += 1\n",
    "print(valid)"
   ]
  },
  {
   "cell_type": "markdown",
   "id": "61c680ac-2960-4cf8-8dad-e1ca4d04fe19",
   "metadata": {},
   "source": [
    "## 2"
   ]
  },
  {
   "cell_type": "code",
   "execution_count": 31,
   "id": "7d10f02e-ffaf-48c0-bfa4-c5783738eeb5",
   "metadata": {},
   "outputs": [
    {
     "name": "stdout",
     "output_type": "stream",
     "text": [
      "140\n"
     ]
    }
   ],
   "source": [
    "import re\n",
    "\n",
    "valid = 0\n",
    "for pp in t:\n",
    "    pp = (' '.join(pp.splitlines())).split()\n",
    "    keys = [x[:3] for x in pp]\n",
    "    values = [x[4:] for x in pp]\n",
    "    pp = dict(zip(keys, values))\n",
    "    if (len(keys) == 8) or ( (len(keys)==7) & ('cid' not in keys)):\n",
    "        try:\n",
    "            assert 1920 <= int(pp['byr']) <= 2002\n",
    "            assert 2010 <= int(pp['iyr']) <= 2020\n",
    "            assert 2020 <= int(pp['eyr']) <= 2030\n",
    "            assert pp['hgt'].endswith('cm') | pp['hgt'].endswith('in')\n",
    "            if pp['hgt'].endswith('cm'):\n",
    "                assert 150 <= int(pp['hgt'][:-2]) <= 193\n",
    "            else:\n",
    "                assert 59 <= int(pp['hgt'][:-2]) <= 76\n",
    "            assert re.fullmatch('#[0-9a-f]{6}', pp['hcl'])\n",
    "            assert pp['ecl'] in \"amb blu brn gry grn hzl oth\".split()\n",
    "            assert len(pp['pid']) == 9\n",
    "            valid += 1\n",
    "        except AssertionError:\n",
    "            next\n",
    "            \n",
    "print(valid)"
   ]
  }
 ],
 "metadata": {
  "kernelspec": {
   "display_name": "Python 3",
   "language": "python",
   "name": "python3"
  },
  "language_info": {
   "codemirror_mode": {
    "name": "ipython",
    "version": 3
   },
   "file_extension": ".py",
   "mimetype": "text/x-python",
   "name": "python",
   "nbconvert_exporter": "python",
   "pygments_lexer": "ipython3",
   "version": "3.8.8"
  }
 },
 "nbformat": 4,
 "nbformat_minor": 5
}
