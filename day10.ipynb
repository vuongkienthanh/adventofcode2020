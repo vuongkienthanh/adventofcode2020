{
 "cells": [
  {
   "cell_type": "code",
   "execution_count": 23,
   "id": "every-challenge",
   "metadata": {},
   "outputs": [],
   "source": [
    "url = \"https://adventofcode.com/2020/day/10/input\"\n",
    "from helper import getdata\n",
    "t = getdata(url)\n",
    "t = [int(x) for x in t]"
   ]
  },
  {
   "cell_type": "markdown",
   "id": "active-vessel",
   "metadata": {},
   "source": [
    "## 1"
   ]
  },
  {
   "cell_type": "code",
   "execution_count": 24,
   "id": "musical-christianity",
   "metadata": {},
   "outputs": [
    {
     "name": "stdout",
     "output_type": "stream",
     "text": [
      "{1: 71, 2: 0, 3: 27}\n",
      "1917\n"
     ]
    }
   ],
   "source": [
    "t2 = t.copy()\n",
    "t2.append(0)\n",
    "t2.append(max(t)+3)\n",
    "t2.sort()\n",
    "diffs = {\n",
    "    1:0, 2:0, 3:0\n",
    "}\n",
    "for i in range(len(t2)-1):\n",
    "    d = t2[i+1] - t2[i]\n",
    "    diffs[d]+=1\n",
    "    \n",
    "print(diffs)\n",
    "print(diffs[1]*diffs[3])"
   ]
  },
  {
   "cell_type": "markdown",
   "id": "oriented-discussion",
   "metadata": {},
   "source": [
    "## 2"
   ]
  },
  {
   "cell_type": "code",
   "execution_count": 64,
   "id": "white-empire",
   "metadata": {},
   "outputs": [
    {
     "data": {
      "text/plain": [
       "113387824750592"
      ]
     },
     "execution_count": 64,
     "metadata": {},
     "output_type": "execute_result"
    }
   ],
   "source": [
    "t2 = t.copy()\n",
    "end = max(t2)+3\n",
    "t2 = [0] + t2 + [end]\n",
    "t2.sort()\n",
    "\n",
    "routes = {0:1}\n",
    "\n",
    "for i in t2[1:]:\n",
    "    routes[i] = routes.get(i-1, 0) + routes.get(i-2, 0) + routes.get(i-3, 0)\n",
    "\n",
    "routes[end]"
   ]
  }
 ],
 "metadata": {
  "kernelspec": {
   "display_name": "Python 3",
   "language": "python",
   "name": "python3"
  },
  "language_info": {
   "codemirror_mode": {
    "name": "ipython",
    "version": 3
   },
   "file_extension": ".py",
   "mimetype": "text/x-python",
   "name": "python",
   "nbconvert_exporter": "python",
   "pygments_lexer": "ipython3",
   "version": "3.8.8"
  }
 },
 "nbformat": 4,
 "nbformat_minor": 5
}
