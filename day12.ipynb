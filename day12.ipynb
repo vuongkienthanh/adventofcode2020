{
 "cells": [
  {
   "cell_type": "code",
   "execution_count": 1,
   "id": "royal-vinyl",
   "metadata": {},
   "outputs": [],
   "source": [
    "url = \"https://adventofcode.com/2020/day/12/input\"\n",
    "from helper import getdata\n",
    "t = getdata(url)"
   ]
  },
  {
   "cell_type": "markdown",
   "id": "catholic-observation",
   "metadata": {},
   "source": [
    "## 1"
   ]
  },
  {
   "cell_type": "code",
   "execution_count": 12,
   "id": "recreational-cabinet",
   "metadata": {},
   "outputs": [],
   "source": [
    "class Ship():\n",
    "    def __init__(self, pos=(0,0), face=0):\n",
    "        self.pos = pos\n",
    "        self.face = face # degree\n",
    "        \n",
    "    def turn_left(self, deg):\n",
    "        self.face += deg\n",
    "        self.standardize_face()\n",
    "    \n",
    "    def turn_right(self, deg):\n",
    "        self.face -= deg\n",
    "        self.standardize_face()\n",
    "    \n",
    "    def standardize_face(self):\n",
    "        while self.face < 0:\n",
    "            self.face += 360\n",
    "        while self.face >= 360:\n",
    "            self.face -= 360\n",
    "            \n",
    "    def forward(self, d):\n",
    "        if self.face == 0:\n",
    "            self.go_right(d)\n",
    "        if self.face == 90:\n",
    "            self.go_up(d)\n",
    "        if self.face == 180:\n",
    "            self.go_left(d)\n",
    "        if self.face == 270:\n",
    "            self.go_down(d)\n",
    "    \n",
    "    def go_up(self, d):\n",
    "        self.pos = (self.pos[0], self.pos[1]+d)\n",
    "    def go_down(self, d):\n",
    "        self.pos = (self.pos[0], self.pos[1]-d)\n",
    "    def go_left(self, d):\n",
    "        self.pos = (self.pos[0]-d, self.pos[1])\n",
    "    def go_right(self, d):\n",
    "        self.pos = (self.pos[0]+d, self.pos[1])\n",
    "    \n",
    "    def run(self, data):\n",
    "        for stm in data:\n",
    "            action = stm[0]\n",
    "            param = int(stm[1:])\n",
    "            if action==\"N\":\n",
    "                self.go_up(param)\n",
    "            elif action==\"E\":\n",
    "                self.go_right(param)\n",
    "            elif action==\"W\":\n",
    "                self.go_left(param)\n",
    "            elif action==\"S\":\n",
    "                self.go_down(param)\n",
    "            elif action==\"L\":\n",
    "                self.turn_left(param)\n",
    "            elif action==\"R\":\n",
    "                self.turn_right(param)\n",
    "            elif action==\"F\":\n",
    "                self.forward(param)\n",
    "            else:\n",
    "                print('something wrong')\n",
    "    \n",
    "    @property\n",
    "    def manhattan(self):\n",
    "        return abs(self.pos[0]) + abs(self.pos[1])"
   ]
  },
  {
   "cell_type": "code",
   "execution_count": 15,
   "id": "useful-aaron",
   "metadata": {},
   "outputs": [
    {
     "data": {
      "text/plain": [
       "1687"
      ]
     },
     "execution_count": 15,
     "metadata": {},
     "output_type": "execute_result"
    }
   ],
   "source": [
    "s = Ship()\n",
    "s.run(t)\n",
    "s.manhattan"
   ]
  },
  {
   "cell_type": "markdown",
   "id": "centered-fellowship",
   "metadata": {},
   "source": [
    "## 2"
   ]
  },
  {
   "cell_type": "code",
   "execution_count": 35,
   "id": "inclusive-evaluation",
   "metadata": {},
   "outputs": [],
   "source": [
    "class Ship2(Ship):\n",
    "    def __init__(self, waypoint=(10,1)):\n",
    "        super().__init__()\n",
    "        self.waypoint = waypoint\n",
    "        \n",
    "    def turn_left(self, deg):\n",
    "        if deg == 90:\n",
    "            self.waypoint = (-self.waypoint[1], self.waypoint[0])\n",
    "        elif deg == 180:\n",
    "            self.waypoint = (-self.waypoint[0], -self.waypoint[1])\n",
    "        elif deg == 270:\n",
    "            self.waypoint = (self.waypoint[1], -self.waypoint[0])\n",
    "    \n",
    "    def turn_right(self, deg):\n",
    "        self.turn_left(360 - deg)\n",
    "            \n",
    "    def forward(self, d):\n",
    "        self.pos = (self.pos[0] + d*self.waypoint[0] , self.pos[1] + d*self.waypoint[1])\n",
    "    \n",
    "    def go_up(self, d):\n",
    "        self.waypoint = (self.waypoint[0], self.waypoint[1]+d)\n",
    "    def go_down(self, d):\n",
    "        self.waypoint = (self.waypoint[0], self.waypoint[1]-d)\n",
    "    def go_left(self, d):\n",
    "        self.waypoint = (self.waypoint[0]-d, self.waypoint[1])\n",
    "    def go_right(self, d):\n",
    "        self.waypoint = (self.waypoint[0]+d, self.waypoint[1])"
   ]
  },
  {
   "cell_type": "code",
   "execution_count": 36,
   "id": "thirty-seeker",
   "metadata": {},
   "outputs": [
    {
     "data": {
      "text/plain": [
       "20873"
      ]
     },
     "execution_count": 36,
     "metadata": {},
     "output_type": "execute_result"
    }
   ],
   "source": [
    "s = Ship2()\n",
    "s.run(t)\n",
    "s.manhattan"
   ]
  }
 ],
 "metadata": {
  "kernelspec": {
   "display_name": "Python 3",
   "language": "python",
   "name": "python3"
  },
  "language_info": {
   "codemirror_mode": {
    "name": "ipython",
    "version": 3
   },
   "file_extension": ".py",
   "mimetype": "text/x-python",
   "name": "python",
   "nbconvert_exporter": "python",
   "pygments_lexer": "ipython3",
   "version": "3.8.8"
  }
 },
 "nbformat": 4,
 "nbformat_minor": 5
}
