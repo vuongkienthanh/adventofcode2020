{
 "cells": [
  {
   "cell_type": "code",
   "execution_count": 1,
   "id": "spectacular-geometry",
   "metadata": {},
   "outputs": [],
   "source": [
    "url = \"https://adventofcode.com/2020/day/9/input\"\n",
    "from helper import getdata\n",
    "t = getdata(url)"
   ]
  },
  {
   "cell_type": "code",
   "execution_count": 16,
   "id": "comparative-expense",
   "metadata": {},
   "outputs": [
    {
     "data": {
      "text/plain": [
       "[13, 47, 42, 30, 4]"
      ]
     },
     "execution_count": 16,
     "metadata": {},
     "output_type": "execute_result"
    }
   ],
   "source": [
    "t = [int(x) for x in t]\n",
    "t[:5]"
   ]
  },
  {
   "cell_type": "code",
   "execution_count": 7,
   "id": "common-auckland",
   "metadata": {},
   "outputs": [],
   "source": [
    "from collections import deque\n",
    "from itertools import combinations"
   ]
  },
  {
   "cell_type": "markdown",
   "id": "occupied-stake",
   "metadata": {},
   "source": [
    "## 1"
   ]
  },
  {
   "cell_type": "code",
   "execution_count": 30,
   "id": "composed-sugar",
   "metadata": {},
   "outputs": [
    {
     "name": "stdout",
     "output_type": "stream",
     "text": [
      "1639024365\n"
     ]
    }
   ],
   "source": [
    "i = 25\n",
    "stack = deque(t[:25], 25)\n",
    "while i < len(t):\n",
    "    status = False\n",
    "    for a,b in combinations(stack, 2):\n",
    "        if a+b == t[i]:\n",
    "            status = True\n",
    "            break\n",
    "    if status:\n",
    "        stack.append(t[i])\n",
    "        i += 1\n",
    "    else:\n",
    "        print(t[i])\n",
    "        break"
   ]
  },
  {
   "cell_type": "markdown",
   "id": "religious-cycle",
   "metadata": {},
   "source": [
    "## 2"
   ]
  },
  {
   "cell_type": "code",
   "execution_count": 36,
   "id": "adaptive-discretion",
   "metadata": {},
   "outputs": [
    {
     "name": "stdout",
     "output_type": "stream",
     "text": [
      "219202240\n"
     ]
    }
   ],
   "source": [
    "target = 1639024365\n",
    "for i in range(len(t)):\n",
    "    s = t[i]\n",
    "    j = 1\n",
    "    while s < target:\n",
    "        s += t[i+j]\n",
    "        j += 1\n",
    "    if s == target:\n",
    "        ans = t[i:i+j]\n",
    "        print(max(ans)+min(ans))\n",
    "        break"
   ]
  }
 ],
 "metadata": {
  "kernelspec": {
   "display_name": "Python 3",
   "language": "python",
   "name": "python3"
  },
  "language_info": {
   "codemirror_mode": {
    "name": "ipython",
    "version": 3
   },
   "file_extension": ".py",
   "mimetype": "text/x-python",
   "name": "python",
   "nbconvert_exporter": "python",
   "pygments_lexer": "ipython3",
   "version": "3.8.8"
  }
 },
 "nbformat": 4,
 "nbformat_minor": 5
}
