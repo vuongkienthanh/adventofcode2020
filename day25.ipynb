{
 "cells": [
  {
   "cell_type": "code",
   "execution_count": 3,
   "id": "9fffb502-036a-43c4-bdb5-b1b916502596",
   "metadata": {},
   "outputs": [],
   "source": [
    "url = 'https://adventofcode.com/2020/day/25/input'\n",
    "from helper import getdata\n",
    "t = getdata(url)\n",
    "from functools import reduce"
   ]
  },
  {
   "cell_type": "code",
   "execution_count": 15,
   "id": "967b76b0-11a4-453e-a5ce-4a49abcc764b",
   "metadata": {},
   "outputs": [
    {
     "data": {
      "text/plain": [
       "[6270530, 14540258]"
      ]
     },
     "execution_count": 15,
     "metadata": {},
     "output_type": "execute_result"
    }
   ],
   "source": [
    "t =[int(x) for x in t]\n",
    "t"
   ]
  },
  {
   "cell_type": "code",
   "execution_count": 16,
   "id": "2ec97965-65ee-4ecb-a3a2-505bcd987612",
   "metadata": {},
   "outputs": [
    {
     "data": {
      "text/plain": [
       "(397860, 6270530)"
      ]
     },
     "execution_count": 16,
     "metadata": {},
     "output_type": "execute_result"
    }
   ],
   "source": [
    "card_public_key = 1\n",
    "card_secret_loopsize = 1\n",
    "def loop(sbj):\n",
    "     return lambda x,y: (x*sbj)%20201227\n",
    "while True:\n",
    "    card_public_key = loop(7)(card_public_key, None)\n",
    "    if card_public_key == t[0]:\n",
    "        break\n",
    "    else:\n",
    "        card_secret_loopsize += 1\n",
    "\n",
    "card_secret_loopsize, card_public_key"
   ]
  },
  {
   "cell_type": "code",
   "execution_count": 17,
   "id": "87fd4c57-60bc-42a3-b7fe-9f1cba6e9a94",
   "metadata": {},
   "outputs": [
    {
     "data": {
      "text/plain": [
       "16311885"
      ]
     },
     "execution_count": 17,
     "metadata": {},
     "output_type": "execute_result"
    }
   ],
   "source": [
    "reduce(loop(t[1]), range(card_secret_loopsize), 1)"
   ]
  },
  {
   "cell_type": "code",
   "execution_count": null,
   "id": "ee59abd0-2e23-47fd-8f40-be06452eb1cd",
   "metadata": {},
   "outputs": [],
   "source": []
  }
 ],
 "metadata": {
  "kernelspec": {
   "display_name": "Python 3",
   "language": "python",
   "name": "python3"
  },
  "language_info": {
   "codemirror_mode": {
    "name": "ipython",
    "version": 3
   },
   "file_extension": ".py",
   "mimetype": "text/x-python",
   "name": "python",
   "nbconvert_exporter": "python",
   "pygments_lexer": "ipython3",
   "version": "3.8.8"
  }
 },
 "nbformat": 4,
 "nbformat_minor": 5
}
