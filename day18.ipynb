{
 "cells": [
  {
   "cell_type": "code",
   "execution_count": 25,
   "id": "corporate-aberdeen",
   "metadata": {},
   "outputs": [],
   "source": [
    "url = 'https://adventofcode.com/2020/day/18/input'\n",
    "from helper import getdata\n",
    "t = getdata(url)\n",
    "import re"
   ]
  },
  {
   "cell_type": "markdown",
   "id": "genetic-native",
   "metadata": {},
   "source": [
    "## 1"
   ]
  },
  {
   "cell_type": "code",
   "execution_count": 118,
   "id": "sharp-harbor",
   "metadata": {},
   "outputs": [],
   "source": [
    "def my_eval(s):\n",
    "    sp = s.split()\n",
    "    res = eval(''.join(sp[:3]))\n",
    "    i = 3\n",
    "    while i < len(sp):\n",
    "        res = eval(f'{res} {sp[i]} {sp[i+1]}')\n",
    "        i += 2\n",
    "    return res\n",
    "\n",
    "def cal(s):\n",
    "    while '(' in s:\n",
    "        m = re.search('\\([0-9\\+\\-\\*\\/ ]*\\)', s)\n",
    "        s = s[:m.start()] + str(my_eval(s[m.start()+1:m.end()-1]))+ s[m.end():]\n",
    "    else:\n",
    "        return my_eval(s)"
   ]
  },
  {
   "cell_type": "code",
   "execution_count": 119,
   "id": "rough-elephant",
   "metadata": {},
   "outputs": [
    {
     "data": {
      "text/plain": [
       "53660285675207"
      ]
     },
     "execution_count": 119,
     "metadata": {},
     "output_type": "execute_result"
    }
   ],
   "source": [
    "sum(map(cal, t))"
   ]
  },
  {
   "cell_type": "markdown",
   "id": "lined-olympus",
   "metadata": {},
   "source": [
    "## 2"
   ]
  },
  {
   "cell_type": "code",
   "execution_count": 202,
   "id": "fleet-agent",
   "metadata": {},
   "outputs": [
    {
     "data": {
      "text/plain": [
       "141993988282687"
      ]
     },
     "execution_count": 202,
     "metadata": {},
     "output_type": "execute_result"
    }
   ],
   "source": [
    "def my_eval(s):\n",
    "    r = []\n",
    "    for addi in [x.strip() for x in s.split('+')]:\n",
    "        for elem in [x.strip() for x in addi.split('*')]:\n",
    "            r.extend([elem, '*'])\n",
    "        else:\n",
    "            r = r[:-1] + ['+']\n",
    "    else:\n",
    "        r = r[:-1]\n",
    "    for op in ['+', '*']:\n",
    "        while op in r:\n",
    "            index = r.index(op)\n",
    "            r = r[:index-1] + [str(eval(f'{r[index-1]} {op} {r[index+1]}'))] + r[index+2:]\n",
    "    return r[0]\n",
    "\n",
    "def cal(s):\n",
    "    while '(' in s:\n",
    "        m = re.search('\\([0-9\\+\\-\\*\\/ ]*\\)', s)\n",
    "        s = s[:m.start()] + my_eval(s[m.start()+1:m.end()-1]) + s[m.end():]\n",
    "    else:\n",
    "        return int(my_eval(s))\n",
    "\n",
    "sum(map(cal, t))"
   ]
  }
 ],
 "metadata": {
  "kernelspec": {
   "display_name": "Python 3",
   "language": "python",
   "name": "python3"
  },
  "language_info": {
   "codemirror_mode": {
    "name": "ipython",
    "version": 3
   },
   "file_extension": ".py",
   "mimetype": "text/x-python",
   "name": "python",
   "nbconvert_exporter": "python",
   "pygments_lexer": "ipython3",
   "version": "3.8.8"
  }
 },
 "nbformat": 4,
 "nbformat_minor": 5
}
