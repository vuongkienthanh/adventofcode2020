{
 "cells": [
  {
   "cell_type": "code",
   "execution_count": 422,
   "id": "material-coverage",
   "metadata": {},
   "outputs": [],
   "source": [
    "t = 496138527\n",
    "ex = 389125467"
   ]
  },
  {
   "cell_type": "markdown",
   "id": "ruled-switch",
   "metadata": {},
   "source": [
    "## 1"
   ]
  },
  {
   "cell_type": "code",
   "execution_count": 620,
   "id": "unauthorized-lingerie",
   "metadata": {},
   "outputs": [],
   "source": [
    "class Game:\n",
    "    def __init__(self, t, size):\n",
    "        self.size = int(size)\n",
    "        if self.size > len(str(t)):\n",
    "            t = [int(x) for x in list(str(t))] + [10]\n",
    "            self.curr = t[0]\n",
    "            self.t = [0]\n",
    "            for i in range(1, 10):\n",
    "                index = t.index(i)\n",
    "                self.t.append(t[index+1])\n",
    "            self.t.extend(range(11, self.size + 1))\n",
    "            self.t.append(t[0])\n",
    "            \n",
    "        else:\n",
    "            t = [int(x) for x in list(str(t))]\n",
    "            self.curr = t[0]\n",
    "            self.t = [0]\n",
    "            for i in range(1, 10):\n",
    "                index = t.index(i)\n",
    "                self.t.append(t[(index+1)%self.size])\n",
    "        \n",
    "        \n",
    "    def move(self):\n",
    "        pick = [\n",
    "            self.t[self.curr],\n",
    "            self.t[self.t[self.curr]],\n",
    "            self.t[self.t[self.t[self.curr]]],\n",
    "        ]\n",
    "        next_ = self.t[self.t[self.t[self.t[self.curr]]]]\n",
    "        # close gap\n",
    "        self.t[self.curr] = next_\n",
    "        # get dst\n",
    "        dst =  self.size if self.curr==1 else self.curr-1\n",
    "        while dst in pick:\n",
    "            dst = self.size if dst==1 else dst-1\n",
    "        # connect\n",
    "        self.t[dst], self.t[pick[2]] = pick[0], self.t[dst]\n",
    "        # next curr\n",
    "        self.curr = next_\n",
    "        return pick ,dst\n",
    "    \n",
    "    def loop(self, many):\n",
    "        for i in range(int(many)):\n",
    "            if i%50000 ==0:\n",
    "                print(i, end='-')\n",
    "            self.move()\n",
    "    \n",
    "    def cal(self, start=1):\n",
    "        res = [start]\n",
    "        for i in range(len(self.t)-2):\n",
    "            res.append(self.t[res[-1]])\n",
    "        return ''.join([str(x) for x in res[1:]])\n",
    "        \n",
    "    \n",
    "    def cal2(self, start=1):\n",
    "        return self.t[start] * self.t[self.t[start]]"
   ]
  },
  {
   "cell_type": "code",
   "execution_count": 621,
   "id": "naked-rogers",
   "metadata": {},
   "outputs": [
    {
     "name": "stdout",
     "output_type": "stream",
     "text": [
      "0-"
     ]
    },
    {
     "data": {
      "text/plain": [
       "'69425837'"
      ]
     },
     "execution_count": 621,
     "metadata": {},
     "output_type": "execute_result"
    }
   ],
   "source": [
    "g1 = Game(t, size=9)\n",
    "g1.loop(100)\n",
    "g1.cal()"
   ]
  },
  {
   "cell_type": "markdown",
   "id": "convertible-madison",
   "metadata": {},
   "source": [
    "## 2"
   ]
  },
  {
   "cell_type": "code",
   "execution_count": 622,
   "id": "latest-entrance",
   "metadata": {},
   "outputs": [
    {
     "name": "stdout",
     "output_type": "stream",
     "text": [
      "0-50000-100000-150000-200000-250000-300000-350000-400000-450000-500000-550000-600000-650000-700000-750000-800000-850000-900000-950000-1000000-1050000-1100000-1150000-1200000-1250000-1300000-1350000-1400000-1450000-1500000-1550000-1600000-1650000-1700000-1750000-1800000-1850000-1900000-1950000-2000000-2050000-2100000-2150000-2200000-2250000-2300000-2350000-2400000-2450000-2500000-2550000-2600000-2650000-2700000-2750000-2800000-2850000-2900000-2950000-3000000-3050000-3100000-3150000-3200000-3250000-3300000-3350000-3400000-3450000-3500000-3550000-3600000-3650000-3700000-3750000-3800000-3850000-3900000-3950000-4000000-4050000-4100000-4150000-4200000-4250000-4300000-4350000-4400000-4450000-4500000-4550000-4600000-4650000-4700000-4750000-4800000-4850000-4900000-4950000-5000000-5050000-5100000-5150000-5200000-5250000-5300000-5350000-5400000-5450000-5500000-5550000-5600000-5650000-5700000-5750000-5800000-5850000-5900000-5950000-6000000-6050000-6100000-6150000-6200000-6250000-6300000-6350000-6400000-6450000-6500000-6550000-6600000-6650000-6700000-6750000-6800000-6850000-6900000-6950000-7000000-7050000-7100000-7150000-7200000-7250000-7300000-7350000-7400000-7450000-7500000-7550000-7600000-7650000-7700000-7750000-7800000-7850000-7900000-7950000-8000000-8050000-8100000-8150000-8200000-8250000-8300000-8350000-8400000-8450000-8500000-8550000-8600000-8650000-8700000-8750000-8800000-8850000-8900000-8950000-9000000-9050000-9100000-9150000-9200000-9250000-9300000-9350000-9400000-9450000-9500000-9550000-9600000-9650000-9700000-9750000-9800000-9850000-9900000-9950000-"
     ]
    },
    {
     "data": {
      "text/plain": [
       "218882971435"
      ]
     },
     "execution_count": 622,
     "metadata": {},
     "output_type": "execute_result"
    }
   ],
   "source": [
    "g2 = Game(t, size=1e6)\n",
    "g2.loop(1e7)\n",
    "g2.cal2()"
   ]
  }
 ],
 "metadata": {
  "kernelspec": {
   "display_name": "Python 3",
   "language": "python",
   "name": "python3"
  },
  "language_info": {
   "codemirror_mode": {
    "name": "ipython",
    "version": 3
   },
   "file_extension": ".py",
   "mimetype": "text/x-python",
   "name": "python",
   "nbconvert_exporter": "python",
   "pygments_lexer": "ipython3",
   "version": "3.8.8"
  }
 },
 "nbformat": 4,
 "nbformat_minor": 5
}
