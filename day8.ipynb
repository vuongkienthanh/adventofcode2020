{
 "cells": [
  {
   "cell_type": "code",
   "execution_count": 1,
   "id": "considered-wilson",
   "metadata": {},
   "outputs": [],
   "source": [
    "url = \"https://adventofcode.com/2020/day/8/input\"\n",
    "from helper import getdata\n",
    "t = getdata(url)"
   ]
  },
  {
   "cell_type": "code",
   "execution_count": 2,
   "id": "emotional-allergy",
   "metadata": {},
   "outputs": [
    {
     "data": {
      "text/plain": [
       "['acc -13', 'jmp +37', 'acc -19', 'jmp +1', 'jmp +1']"
      ]
     },
     "execution_count": 2,
     "metadata": {},
     "output_type": "execute_result"
    }
   ],
   "source": [
    "t[:5]"
   ]
  },
  {
   "cell_type": "code",
   "execution_count": 65,
   "id": "endless-algeria",
   "metadata": {},
   "outputs": [],
   "source": [
    "class Machine():\n",
    "    def __init__(self, data):\n",
    "        self.accumulator = 0\n",
    "        self.curr = 0\n",
    "        if isinstance(data, list):\n",
    "            self.data = data\n",
    "        else:\n",
    "            raise Exception('data not formatted')\n",
    "        self.executed_list = []\n",
    "        self.status = None\n",
    "        \n",
    "    def execute(self):\n",
    "        if self.curr < len(self.data):\n",
    "            stm = self.data[self.curr]\n",
    "            cmd = stm[:3]\n",
    "            param = stm[3:]\n",
    "            if self.curr not in self.executed_list:\n",
    "                self.executed_list.append(self.curr)\n",
    "                exec(f'self.{cmd}({param})')\n",
    "                self.execute() # next\n",
    "            else:\n",
    "                self.status =  'loop'\n",
    "        elif self.curr == len(self.data):\n",
    "            self.status = 'terminated'\n",
    "        else:\n",
    "            raise Exception('something is wrong')\n",
    "\n",
    "    def acc(self, n):\n",
    "        self.accumulator = eval(f'self.accumulator +{n}')\n",
    "        self.curr += 1\n",
    "        \n",
    "    def jmp(self, n):\n",
    "        self.curr = eval(f'self.curr +{n}')\n",
    "        \n",
    "    def nop(self, n):\n",
    "        self.curr += 1"
   ]
  },
  {
   "cell_type": "markdown",
   "id": "varied-sleeping",
   "metadata": {},
   "source": [
    "## 1"
   ]
  },
  {
   "cell_type": "code",
   "execution_count": 70,
   "id": "equal-return",
   "metadata": {},
   "outputs": [
    {
     "name": "stdout",
     "output_type": "stream",
     "text": [
      "loop\n",
      "1939\n"
     ]
    }
   ],
   "source": [
    "m = Machine(t)\n",
    "m.execute()\n",
    "print(m.status)\n",
    "print(m.accumulator)"
   ]
  },
  {
   "cell_type": "markdown",
   "id": "limited-promotion",
   "metadata": {},
   "source": [
    "## 2"
   ]
  },
  {
   "cell_type": "code",
   "execution_count": 72,
   "id": "female-belfast",
   "metadata": {},
   "outputs": [
    {
     "name": "stdout",
     "output_type": "stream",
     "text": [
      "2212\n"
     ]
    }
   ],
   "source": [
    "for index, stm in enumerate(t):\n",
    "    t2 = t.copy()\n",
    "    if stm[:3] == 'jmp':\n",
    "        t2[index] = 'nop' + stm[3:]\n",
    "    elif stm[:3] == 'nop':\n",
    "        t2[index] = 'jmp' + stm[3:]\n",
    "    m = Machine(t2)\n",
    "    m.execute()\n",
    "    if m.status == 'terminated':\n",
    "        print(m.accumulator)"
   ]
  }
 ],
 "metadata": {
  "kernelspec": {
   "display_name": "Python 3",
   "language": "python",
   "name": "python3"
  },
  "language_info": {
   "codemirror_mode": {
    "name": "ipython",
    "version": 3
   },
   "file_extension": ".py",
   "mimetype": "text/x-python",
   "name": "python",
   "nbconvert_exporter": "python",
   "pygments_lexer": "ipython3",
   "version": "3.8.8"
  }
 },
 "nbformat": 4,
 "nbformat_minor": 5
}
